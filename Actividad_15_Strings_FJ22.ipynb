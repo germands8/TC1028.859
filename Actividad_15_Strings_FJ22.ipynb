{
  "nbformat": 4,
  "nbformat_minor": 0,
  "metadata": {
    "colab": {
      "name": "Actividad 15 Strings FJ22",
      "provenance": [],
      "authorship_tag": "ABX9TyM/yHj1FsD2a8OQ2tlKis4w"
    },
    "kernelspec": {
      "name": "python3",
      "display_name": "Python 3"
    },
    "language_info": {
      "name": "python"
    }
  },
  "cells": [
    {
      "cell_type": "markdown",
      "source": [
        "## **Problema 1**\n",
        "Escribe una función que reciba como parámetro una cadena de texto y como resultado imprima la cadena en mayúsculas.\n",
        "\n",
        "cadena = \"Armando Escándalos escribe este código, aquel código y el mismo código\""
      ],
      "metadata": {
        "id": "WzXCF5qqsEKx"
      }
    },
    {
      "cell_type": "code",
      "execution_count": null,
      "metadata": {
        "colab": {
          "base_uri": "https://localhost:8080/"
        },
        "id": "cAowXX0jsAHx",
        "outputId": "ab8503fe-d9cf-48a7-96b4-831fc81b1b93"
      },
      "outputs": [
        {
          "output_type": "stream",
          "name": "stdout",
          "text": [
            "ARMANDO ESCÁNDALOS ESCRIBE ESTE CÓDIGO, AQUEL CÓDIGO Y EL MISMO CÓDIGO\n",
            "armando escándalos escribe este código, aquel código y el mismo código\n"
          ]
        }
      ],
      "source": [
        "cadena = \"Armando Escándalos escribe este código, aquel código y el mismo código\"\n",
        "\n",
        "def mayusculas(cadena):\n",
        "\n",
        "  print(cadena.upper())\n",
        "  print(cadena.lower())\n",
        "\n",
        "mayusculas(cadena)"
      ]
    },
    {
      "cell_type": "markdown",
      "source": [
        "## **Problema 2**\n",
        "Escribe una función que reciba dos parámetros: un texto y una letra. La función deberá imprimir la cadena, pero en cada letra diferente de “letra” deberá escribir asteriscos.\n",
        "\n",
        "Ejemplo:\n",
        "\n",
        "cadena = \"Esta cadena de texto será modificada\"\n",
        "\n",
        "letra = \"a\"\n",
        "\n",
        "la función debe imprimir\n",
        "\n",
        "***a**a***a**********************a*a"
      ],
      "metadata": {
        "id": "9yNw5VkZtULY"
      }
    },
    {
      "cell_type": "code",
      "source": [
        "cadena = \"Esta cadena de texto será modificada\"\n",
        "letra = \"a\"\n",
        "\n",
        "def reemplazar_letra(cadena, letra):\n",
        "\n",
        "  cadena_nueva = \"\"\n",
        "\n",
        "  for caracter in cadena:\n",
        "    \n",
        "    if caracter != letra:\n",
        "     #print(\"*\")\n",
        "      cadena_nueva = cadena_nueva + \"*\"\n",
        "    else:\n",
        "     #print(\"a\")\n",
        "      cadena_nueva = cadena_nueva + \"a\"\n",
        "  \n",
        "  print(cadena_nueva)\n",
        "\n",
        "reemplazar_letra(cadena, letra)"
      ],
      "metadata": {
        "colab": {
          "base_uri": "https://localhost:8080/"
        },
        "id": "kkjVcMnus6Xy",
        "outputId": "9b1d5aea-2ea1-404e-ca2e-dcad69c48ede"
      },
      "execution_count": null,
      "outputs": [
        {
          "output_type": "stream",
          "name": "stdout",
          "text": [
            "***a**a***a**********************a*a\n"
          ]
        }
      ]
    },
    {
      "cell_type": "markdown",
      "source": [
        "## **Problema 3**\n",
        "Escribe una función que recibe como parámetro un texto. La función deberá eliminar todos los espacios en blanco de la cadena original.\n",
        "\n",
        "cadena = \"Esta cadena de texto no tendrá espacios en blanco\""
      ],
      "metadata": {
        "id": "Up4f6Gq0xeIa"
      }
    },
    {
      "cell_type": "code",
      "source": [
        "cadena = \"Esta cadena de texto no tendrá espacios en blanco\"\n",
        "\n",
        "def eliminar_espacios(cadena):\n",
        "\n",
        "  print(cadena.replace(\" \", \"\"))\n",
        "\n",
        "eliminar_espacios(cadena)"
      ],
      "metadata": {
        "colab": {
          "base_uri": "https://localhost:8080/"
        },
        "id": "NjPFTm_ouZJB",
        "outputId": "f008ba7a-abc6-4043-ea07-1c2f62d890d3"
      },
      "execution_count": null,
      "outputs": [
        {
          "output_type": "stream",
          "name": "stdout",
          "text": [
            "Estacadenadetextonotendráespaciosenblanco\n"
          ]
        }
      ]
    },
    {
      "cell_type": "markdown",
      "source": [
        "## **Problema 4**\n",
        "Escribe una función que recibe como parámetro la siguiente lista de alumnos, e imprima una tabla con títulos: ID, Nombre y Edad y los siguientes datos usando f-strings.\n",
        "\n",
        "alumnos = [['1', 'Armando', 18],\n",
        "                    ['2', 'Mikoko', 20],\n",
        "                    ['3', 'Henry', 21],\n",
        "                    ['4', 'José', 21]]"
      ],
      "metadata": {
        "id": "F1935GamyyfZ"
      }
    },
    {
      "cell_type": "markdown",
      "source": [
        "Explicación f-string"
      ],
      "metadata": {
        "id": "NWJfa5ZJ0_Eq"
      }
    },
    {
      "cell_type": "code",
      "source": [
        "nombre = \"Germán\"\n",
        "print(f'Hola mundo:\\n{nombre : ^20}')"
      ],
      "metadata": {
        "colab": {
          "base_uri": "https://localhost:8080/"
        },
        "id": "dveF6O2Jx-UW",
        "outputId": "41c130a7-1dc2-4369-d58f-e7eb0634a11b"
      },
      "execution_count": null,
      "outputs": [
        {
          "output_type": "stream",
          "name": "stdout",
          "text": [
            "Hola mundo:\n",
            "       Germán       \n"
          ]
        }
      ]
    },
    {
      "cell_type": "code",
      "source": [
        "alumnos = [['1', 'Armando', 18], ['2', 'Mikoko', 20], ['3', 'Henry', 21], ['4', 'José', 21]]\n",
        "\n",
        "def imprimir_tabla(alumnos):\n",
        "\n",
        "  print(f'{\"ID\" : <5} {\"Nombre\" : <10} {\"Edad\" : <10}')\n",
        "\n",
        "  for alumno in alumnos:\n",
        "\n",
        "    id, nombre, edad = alumno # asignación múltiple\n",
        "    \n",
        "    #print(f'{alumno[0] : <5} {alumno[1] : <10} {alumno[2] : <10}')\n",
        "    print(f'{id : <5} {nombre : <10} {edad : <10}')\n",
        "\n",
        "imprimir_tabla(alumnos)"
      ],
      "metadata": {
        "colab": {
          "base_uri": "https://localhost:8080/"
        },
        "id": "8KeYNrYnzJwg",
        "outputId": "4f147442-52b2-4fbe-9ab6-5203100046c7"
      },
      "execution_count": null,
      "outputs": [
        {
          "output_type": "stream",
          "name": "stdout",
          "text": [
            "ID    Nombre     Edad      \n",
            "1     Armando    18        \n",
            "2     Mikoko     20        \n",
            "3     Henry      21        \n",
            "4     José       21        \n"
          ]
        }
      ]
    }
  ]
}