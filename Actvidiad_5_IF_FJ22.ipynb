{
  "nbformat": 4,
  "nbformat_minor": 0,
  "metadata": {
    "colab": {
      "name": "Actvidiad 5 IF - FJ22.ipynb",
      "provenance": [],
      "authorship_tag": "ABX9TyNYVf7ubXBDVTGqbyj/cJ++"
    },
    "kernelspec": {
      "name": "python3",
      "display_name": "Python 3"
    },
    "language_info": {
      "name": "python"
    }
  },
  "cells": [
    {
      "cell_type": "markdown",
      "source": [
        "## Explicación del **IF**"
      ],
      "metadata": {
        "id": "glFM8bNOmHW8"
      }
    },
    {
      "cell_type": "code",
      "execution_count": null,
      "metadata": {
        "colab": {
          "base_uri": "https://localhost:8080/"
        },
        "id": "hY6hVA2cmELu",
        "outputId": "605b5bc0-1161-4eb6-ef0b-425bf0175898"
      },
      "outputs": [
        {
          "output_type": "stream",
          "name": "stdout",
          "text": [
            "Puedes salir con cubrebocas\n"
          ]
        }
      ],
      "source": [
        "covid = False\n",
        "\n",
        "if covid == True: # covid igual que True?\n",
        "  print(\"Quédate en tu casa\")\n",
        "\n",
        "else:\n",
        "  print(\"Puedes salir con cubrebocas\")"
      ]
    },
    {
      "cell_type": "code",
      "source": [
        "semaforo_cuarentena = input(\"Ingresa el color del semáforo: \")\n",
        "\n",
        "if semaforo_cuarentena == \"Verde\":\n",
        "  print(\"Puedes salir\")\n",
        "\n",
        "elif semaforo_cuarentena == \"Amarillo\":  # else - if, si no si...\n",
        "  print(\"Puedes salir con precaución\")\n",
        "\n",
        "elif semaforo_cuarentena == \"Naranja\":\n",
        "  print(\"Puedes salir a actividades esenciales\")\n",
        "\n",
        "elif semaforo_cuarentena == \"Rojo\":\n",
        "  print(\"Quédate en tu casa\")\n",
        "\n",
        "else:\n",
        "  print(\"Ingresa un color de semáforo válido\")\n"
      ],
      "metadata": {
        "colab": {
          "base_uri": "https://localhost:8080/"
        },
        "id": "_h2oC9Hqn7os",
        "outputId": "00cb2ea7-29c4-4ec9-aaf1-dd2705b9fe50"
      },
      "execution_count": null,
      "outputs": [
        {
          "output_type": "stream",
          "name": "stdout",
          "text": [
            "Ingresa el color del semáforo: Morado\n",
            "Ingresa un color de semáforo válido\n"
          ]
        }
      ]
    },
    {
      "cell_type": "markdown",
      "source": [
        "### **Problema 1**\n",
        "\n",
        "Desarrolla una función llamada mayor_edad( ) que pregunte por la edad de una persona e imprima \"Es mayor de edad\" cuando la edad sea mayor o igual que 18, y \"Es menor de edad\" cuando sea menor a 18.\n",
        "\n",
        "El programa debe verificar 3 edades.\n",
        "\n",
        "15\n",
        "\n",
        "21\n",
        "\n",
        "18"
      ],
      "metadata": {
        "id": "ya7zYiGcq4pX"
      }
    },
    {
      "cell_type": "code",
      "source": [
        "def mayor_edad():\n",
        "  edad = int(input(\"Ingresa la edad de la persona: \"))\n",
        "\n",
        "  if edad < 1:\n",
        "    print(\"Por favor ingresa un valor de edad correcto\")\n",
        "    mayor_edad()\n",
        "\n",
        "  elif edad >= 18:\n",
        "    print(\"Es mayor de edad\")\n",
        "  \n",
        "  else:\n",
        "    print(\"Es menor de edad\")\n",
        "\n",
        "mayor_edad()"
      ],
      "metadata": {
        "colab": {
          "base_uri": "https://localhost:8080/"
        },
        "id": "kn1YdHkOq4Xc",
        "outputId": "9cb72dc8-ceb9-4451-ef68-72d561d23700"
      },
      "execution_count": 18,
      "outputs": [
        {
          "output_type": "stream",
          "name": "stdout",
          "text": [
            "Ingresa la edad de la persona: -20\n",
            "Por favor ingresa un valor de edad correcto\n",
            "Ingresa la edad de la persona: 18\n",
            "Es mayor de edad\n"
          ]
        }
      ]
    },
    {
      "cell_type": "markdown",
      "source": [
        "### **Problema 2**\n",
        "Desarrolla un programa en Python que calcule el índice de masa corporal (IMC).\n",
        "\n",
        "El índice de masa corporal (IMC) se utiliza para determinar si la proporción de peso y altura de una persona es adecuada. El IMC se puede calcular utilizando la siguiente fórmula:\n",
        "\n",
        "\n",
        "Donde el peso debe darse en kilogramos y la altura en metros; ambas entradas son datos de punto flotante, que deberás solicitar al usuario.\n",
        "\n",
        "De acuerdo con el resultado del valor del índice de masa corporal, despliega en pantalla la descripción correspondiente con base en la siguiente tabla:\n",
        "\n",
        "Rango de índice\tDescripción\n",
        "\n",
        "índice < 20\tPeso bajo\n",
        "\n",
        "20 <= índice < 25\tPeso normal\n",
        "\n",
        "25 <= índice < 30\tSobrepeso\n",
        "\n",
        "30 <= índice < 40\tObesidad"
      ],
      "metadata": {
        "id": "jjWSOAKttxkf"
      }
    },
    {
      "cell_type": "code",
      "source": [
        "peso = float(input(\"Ingresa el peso en kilogramos: \"))\n",
        "altura = float(input(\"Ingresa la altura en metros: \"))\n",
        "\n",
        "imc = peso / altura ** 2\n",
        "\n",
        "print(\"El imc es de\", round(imc, 2))\n",
        "print(\"Este imc indica: \")\n",
        "\n",
        "if imc < 20:\n",
        "  print(\"Peso bajo\")\n",
        "\n",
        "elif imc >= 20 and imc < 25:\n",
        "  print(\"Peso normal\")\n",
        "\n",
        "elif imc >= 25 and imc < 30:\n",
        "  print(\"Sobrepeso\")\n",
        "\n",
        "elif imc >= 30 and imc < 40:\n",
        "  print(\"Obesidad\")\n",
        "\n",
        "else:\n",
        "  print(\"Inscríbete a kilos mortales\")"
      ],
      "metadata": {
        "colab": {
          "base_uri": "https://localhost:8080/"
        },
        "id": "grRzE4IluAp2",
        "outputId": "3b52ee66-c4e6-4376-8571-d7390dd610f0"
      },
      "execution_count": 15,
      "outputs": [
        {
          "output_type": "stream",
          "name": "stdout",
          "text": [
            "Ingresa el peso en kilogramos: 82\n",
            "Ingresa la altura en metros: 1.8\n",
            "El imc es de 25.31\n",
            "Este imc indica: \n",
            "Sobrepeso\n"
          ]
        }
      ]
    }
  ]
}