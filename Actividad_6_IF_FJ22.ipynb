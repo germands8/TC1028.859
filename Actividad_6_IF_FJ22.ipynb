{
  "nbformat": 4,
  "nbformat_minor": 0,
  "metadata": {
    "colab": {
      "name": "Actividad 6 IF - FJ22.ipynb",
      "provenance": [],
      "authorship_tag": "ABX9TyOY5MLVKlrPn4JV76B65Alq"
    },
    "kernelspec": {
      "name": "python3",
      "display_name": "Python 3"
    },
    "language_info": {
      "name": "python"
    }
  },
  "cells": [
    {
      "cell_type": "markdown",
      "source": [
        "# Actividad en clase 6: Programas que utilizan funciones y decisiones"
      ],
      "metadata": {
        "id": "oegsXtgU_AAb"
      }
    },
    {
      "cell_type": "markdown",
      "source": [
        "## **Problema 1**\n",
        "\n",
        "Escribe un programa que dados 3 números enteros, que representan la longitud de los lados de un triángulo, muestre en la pantalla el tipo de triángulo del que se trata (equilátero, isósceles o escaleno).\n",
        "\n",
        "Considera que X, Y y Z son los lados de un triángulo, si cumplen con las siguientes condiciones:\n",
        "\n",
        "Todos los números son mayores que cero.\n",
        "\n",
        "La suma de dos de las medidas debe ser estrictamente mayor que la tercera:\n",
        "\n",
        "X + Y > Z\n",
        "\n",
        "X + Z > Y\n",
        "\n",
        "Y + Z > X\n",
        "\n",
        "Recuerda que el triángulo equilátero tiene 3 lados iguales, el isósceles tiene 2 lados iguales y el escaleno tiene los 3 lados diferentes."
      ],
      "metadata": {
        "id": "sCR_s8hA_DYa"
      }
    },
    {
      "cell_type": "code",
      "execution_count": 10,
      "metadata": {
        "colab": {
          "base_uri": "https://localhost:8080/"
        },
        "id": "GoZInJSz-6wJ",
        "outputId": "698c09f8-0dc5-43af-b361-77b8de52555f"
      },
      "outputs": [
        {
          "output_type": "stream",
          "name": "stdout",
          "text": [
            "Ingresa el lado x: 10\n",
            "Ingresa el lado y: 10\n",
            "Ingresa el lado z: 8\n",
            "Triángulo isósceles\n"
          ]
        }
      ],
      "source": [
        "x = int(input(\"Ingresa el lado x: \"))\n",
        "y = int(input(\"Ingresa el lado y: \"))\n",
        "z = int(input(\"Ingresa el lado z: \"))\n",
        "\n",
        "if x > 0 and y > 0 and z > 0: #  que todos los números sean mayores que cero\n",
        "  if x + y > z and x + z > y and y + z > x: # validamos que la suma de 2 de las medidas sea mayor que la tercera\n",
        "    if x == y and x == z and y == z: # todos los datos son iguales\n",
        "      print(\"Triángulo equilatero\")\n",
        "    elif x != y and x != z and y != z: # todos los lados son diferentes\n",
        "      print(\"Triángulo escaleno\")\n",
        "    else: # que 2 lados serían iguales\n",
        "      print(\"Triángulo isósceles\")\n",
        "  \n",
        "  else:\n",
        "    print(\"2 de los lados no son mayores al tercero, no forman un triángulo\")\n",
        "\n",
        "else:\n",
        "  print(\"Todos los lados deben ser mayor que 0\")\n"
      ]
    },
    {
      "cell_type": "markdown",
      "source": [
        "## **Problema 2**\n",
        "Escribe un programa que pida el radio y las coordenadas del centro de un círculo y las coordenadas de un punto. El programa deberá desplegar si el punto se encuentra dentro  o fuera del círculo (si se encuentra sobre la circunferencia se debe de considerar como dentro del círculo).\n",
        "\n",
        "Se recuerda que un punto está fuera, dentro o sobre la circunferencia, según sea la relación entre el radio y la distancia entre el punto y el centro de la circunferencia.\n",
        "\n",
        "La fórmula para sacar la distancia entre dos puntos es:\n",
        "\n",
        "\n"
      ],
      "metadata": {
        "id": "AZtqIHKvGcU8"
      }
    },
    {
      "cell_type": "code",
      "source": [
        "import math"
      ],
      "metadata": {
        "id": "wT1YYgZHIWNP"
      },
      "execution_count": 11,
      "outputs": []
    },
    {
      "cell_type": "code",
      "source": [
        "radio = int(input(\"Ingresa el radio del círculo: \"))\n",
        "x_centro = int(input(\"Ingresa la x del centro: \"))\n",
        "y_centro = int(input(\"Ingresa la y del centro: \"))\n",
        "x_punto = int(input(\"Ingresa la x del punto: \"))\n",
        "y_punto = int(input(\"Ingresa la y del punto: \"))\n",
        "\n",
        "distancia = math.sqrt(((x_punto - x_centro) ** 2) + ((y_punto - y_centro) ** 2))\n",
        "print(\"La distancia entre el centro y el punto es: \", round(distancia, 2))\n",
        "\n",
        "if distancia <= radio:\n",
        "  print(\"El punto está dentro del círculo\")\n",
        "\n",
        "else:\n",
        "  print(\"El punto está afuera del círculo\")\n"
      ],
      "metadata": {
        "colab": {
          "base_uri": "https://localhost:8080/"
        },
        "id": "B63rApi3Gd1B",
        "outputId": "68fcf816-ad04-4b50-db83-552cd387e007"
      },
      "execution_count": 14,
      "outputs": [
        {
          "output_type": "stream",
          "name": "stdout",
          "text": [
            "Ingresa el radio del círculo: 10\n",
            "Ingresa la x del centro: 0\n",
            "Ingresa la y del centro: 0\n",
            "Ingresa la x del punto: 10\n",
            "Ingresa la y del punto: 10\n",
            "La distancia entre el centro y el punto es:  14.14\n",
            "El punto está afuera del círculo\n"
          ]
        }
      ]
    },
    {
      "cell_type": "markdown",
      "source": [
        "## **Problema 3**"
      ],
      "metadata": {
        "id": "CZjV6XFELj1-"
      }
    },
    {
      "cell_type": "markdown",
      "source": [
        "Obtener licencia de manejar, si cumple con los requisitos:\n",
        "\n",
        "1- Mayor de edad (tener INE)\n",
        "\n",
        "2- Pasar el examen teórico\n",
        "\n",
        "3- Pasar el examen práctico\n",
        "\n",
        "4- Pasar el examen médico (opcional)\n",
        "\n",
        "Si cumple con todos, Si puede obtener licencia\n",
        "\n",
        "Sino, No puede obtener licencia"
      ],
      "metadata": {
        "id": "2YXX2J0_Loh1"
      }
    },
    {
      "cell_type": "code",
      "source": [
        "edad = int(input(\"Ingresa la edad de la persona: \"))\n",
        "examen_teorico = input(\"La persona pasó el examen teórico, si/no: \")\n",
        "examen_practico = input(\"La persona pasó el examen práctico, si/no: \")\n",
        "examen_medico = input(\"La persona pasó el examen médico, si/no: \")\n",
        "\n",
        "if edad >= 18 and examen_teorico ==\"si\" and examen_practico == \"si\" and examen_medico == \"si\":\n",
        "  print(\"Puede obtener licencia\")\n",
        "\n",
        "else: \n",
        "  print(\"No puede obtener licencia\")"
      ],
      "metadata": {
        "colab": {
          "base_uri": "https://localhost:8080/"
        },
        "id": "lE_SMt7kL4bW",
        "outputId": "520e8e72-c997-44b5-9f69-51a56b1f69bc"
      },
      "execution_count": 16,
      "outputs": [
        {
          "output_type": "stream",
          "name": "stdout",
          "text": [
            "Ingresa la edad de la persona: 17\n",
            "La persona pasó el examen teórico, si/no: si\n",
            "La persona pasó el examen práctico, si/no: si\n",
            "La persona pasó el examen médico, si/no: si\n",
            "No puede obtener licencia\n"
          ]
        }
      ]
    },
    {
      "cell_type": "code",
      "source": [
        "edad = int(input(\"Ingresa la edad de la persona: \"))\n",
        "examen_teorico = input(\"La persona pasó el examen teórico, si/no: \")\n",
        "examen_practico = input(\"La persona pasó el examen práctico, si/no: \")\n",
        "examen_medico = input(\"La persona pasó el examen médico, si/no: \")\n",
        "\n",
        "if edad >= 18:\n",
        "  if examen_teorico ==\"si\":\n",
        "    if examen_practico == \"si\":\n",
        "      if examen_medico == \"si\":\n",
        "        print(\"Puede obtener licencia\")\n",
        "      else:\n",
        "        print(\"No pasó el examen médico\")\n",
        "        print(\"No puede obtener licencia\")\n",
        "\n",
        "    else:\n",
        "      print(\"No pasó el examen práctico\")\n",
        "      print(\"No puede obtener licencia\")\n",
        "\n",
        "  else:\n",
        "    print(\"No pasó el examen teórico\")\n",
        "    print(\"No puede obtener licencia\")\n",
        "\n",
        "else:\n",
        "  print(\"No es mayor de edad\")\n",
        "  print(\"No puede obtener licencia\")"
      ],
      "metadata": {
        "colab": {
          "base_uri": "https://localhost:8080/"
        },
        "id": "XVgbxKJSLmkn",
        "outputId": "6d421bd5-5bb8-4b7d-94cc-27c8bae23199"
      },
      "execution_count": 17,
      "outputs": [
        {
          "output_type": "stream",
          "name": "stdout",
          "text": [
            "Ingresa la edad de la persona: 18\n",
            "La persona pasó el examen teórico, si/no: si\n",
            "La persona pasó el examen práctico, si/no: no\n",
            "La persona pasó el examen médico, si/no: si\n",
            "No pasó el examen práctico\n",
            "No puede obtener licencia\n"
          ]
        }
      ]
    }
  ]
}