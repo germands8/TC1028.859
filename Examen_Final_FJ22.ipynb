{
  "nbformat": 4,
  "nbformat_minor": 0,
  "metadata": {
    "colab": {
      "name": "Examen Final FJ22.ipynb",
      "provenance": [],
      "authorship_tag": "ABX9TyNnNQk4JlfoXcS4eroIOm+H"
    },
    "kernelspec": {
      "name": "python3",
      "display_name": "Python 3"
    },
    "language_info": {
      "name": "python"
    }
  },
  "cells": [
    {
      "cell_type": "code",
      "source": [
        "menu()"
      ],
      "metadata": {
        "colab": {
          "base_uri": "https://localhost:8080/"
        },
        "id": "wDPvyyQtQXCZ",
        "outputId": "3a3ef0e2-84ac-4db6-a07a-5d861813c371"
      },
      "execution_count": null,
      "outputs": [
        {
          "output_type": "stream",
          "name": "stdout",
          "text": [
            "*******************Menú*******************\n",
            "ID   Alimento                      Precio\n",
            "1    Mole                          $90\n",
            "2    Pozole                        $110\n",
            "3    Cochinita                     $80\n",
            "4    Chile relleno                 $80\n",
            "5    Chilaquiles                   $50\n",
            "6    Enchiladas                    $110\n",
            "7    Sopes                         $60\n",
            "8    Tlayudas                      $70\n",
            "9    Burritos                      $50\n",
            "10   Tacos                         $110\n",
            "11   Menudo                        $100\n",
            "12   Flautas                       $90\n",
            "13   Barbacoa                      $90\n",
            "14   Gorditas                      $80\n",
            "15   Pescado                       $110\n",
            "16   Agua de horchata              $30\n",
            "17   Agua de jamaica               $30\n",
            "18   Agua de piña                  $30\n",
            "19   Refresco                      $40\n",
            "20   Agua natural                  $20\n"
          ]
        }
      ]
    },
    {
      "cell_type": "code",
      "source": [
        "registrar_alimentos()"
      ],
      "metadata": {
        "colab": {
          "base_uri": "https://localhost:8080/"
        },
        "id": "VQT7E0gkOSjS",
        "outputId": "de08e97b-a8c1-4ea6-eefc-8ce12d7368a8"
      },
      "execution_count": null,
      "outputs": [
        {
          "output_type": "stream",
          "name": "stdout",
          "text": [
            "Ingresa la cantidad de alimentos que deseas ingresar: 2\n",
            "Ingresa el ID del alimento: 21\n",
            "Ingresa el nombre del alimento: Tostadas\n",
            "Ingresa el precio del alimento: 80\n",
            "Ingresa el ID del alimento: 22\n",
            "Ingresa el nombre del alimento: Torta\n",
            "Ingresa el precio del alimento: 90\n",
            "['1', 'Mole', '90']\n",
            "['2', 'Pozole', '110']\n",
            "['3', 'Cochinita', '80']\n",
            "['4', 'Chile relleno', '80']\n",
            "['5', 'Chilaquiles', '50']\n",
            "['6', 'Enchiladas', '110']\n",
            "['7', 'Sopes', '60']\n",
            "['8', 'Tlayudas', '70']\n",
            "['9', 'Burritos', '50']\n",
            "['10', 'Tacos', '110']\n",
            "['11', 'Menudo', '100']\n",
            "['12', 'Flautas', '90']\n",
            "['13', 'Barbacoa', '90']\n",
            "['14', 'Gorditas', '80']\n",
            "['15', 'Pescado', '110']\n",
            "['16', 'Agua de horchata', '30']\n",
            "['17', 'Agua de jamaica', '30']\n",
            "['18', 'Agua de piña', '30']\n",
            "['19', 'Refresco', '40']\n",
            "['20', 'Agua natural', '20']\n",
            "['21', 'Tostadas', '80']\n",
            "['22', 'Torta', '90']\n"
          ]
        }
      ]
    },
    {
      "cell_type": "code",
      "source": [
        "comprar()"
      ],
      "metadata": {
        "colab": {
          "base_uri": "https://localhost:8080/"
        },
        "id": "hh6iLJg1SF8V",
        "outputId": "63cc696a-d0f9-4cb0-8bea-e0ebbfd93571"
      },
      "execution_count": null,
      "outputs": [
        {
          "output_type": "stream",
          "name": "stdout",
          "text": [
            "*******************Menú*******************\n",
            "ID   Alimento                      Precio\n",
            "1    Mole                          $90\n",
            "2    Pozole                        $110\n",
            "3    Cochinita                     $80\n",
            "4    Chile relleno                 $80\n",
            "5    Chilaquiles                   $50\n",
            "6    Enchiladas                    $110\n",
            "7    Sopes                         $60\n",
            "8    Tlayudas                      $70\n",
            "9    Burritos                      $50\n",
            "10   Tacos                         $110\n",
            "11   Menudo                        $100\n",
            "12   Flautas                       $90\n",
            "13   Barbacoa                      $90\n",
            "14   Gorditas                      $80\n",
            "15   Pescado                       $110\n",
            "16   Agua de horchata              $30\n",
            "17   Agua de jamaica               $30\n",
            "18   Agua de piña                  $30\n",
            "19   Refresco                      $40\n",
            "20   Agua natural                  $20\n",
            "Ingresa el ID del alimento que deseas comprar: 5\n",
            "Chilaquiles                   $50\n",
            "Ingresa el ID del alimento que deseas comprar o 'pagar' si deseas salir: 10\n",
            "Tacos                         $110\n",
            "Ingresa el ID del alimento que deseas comprar o 'pagar' si deseas salir: 16\n",
            "Agua de horchata              $30\n",
            "Ingresa el ID del alimento que deseas comprar o 'pagar' si deseas salir: 19\n",
            "Refresco                      $40\n",
            "Ingresa el ID del alimento que deseas comprar o 'pagar' si deseas salir: pagar\n",
            "Ticket de compra:\n",
            "Alimento                      Precio\n",
            "Chilaquiles                   $50\n",
            "Tacos                         $110\n",
            "Agua de horchata              $30\n",
            "Refresco                      $40\n",
            "IVA                           $36.800000000000004\n",
            "El total a pagar es:          $266.8\n",
            "¡Buen provecho!\n"
          ]
        }
      ]
    },
    {
      "cell_type": "code",
      "execution_count": null,
      "metadata": {
        "id": "6F1gDxqZKO7x"
      },
      "outputs": [],
      "source": [
        "alimentos = [['1', 'Mole', '90'],\n",
        "             ['2', 'Pozole', '110'],\n",
        "             ['3', 'Cochinita', '80'],\n",
        "             ['4', 'Chile relleno', '80'],\n",
        "             ['5', 'Chilaquiles', '50'],\n",
        "             ['6', 'Enchiladas', '110'],\n",
        "             ['7', 'Sopes', '60'],\n",
        "             ['8', 'Tlayudas', '70'],\n",
        "             ['9', 'Burritos', '50'],\n",
        "             ['10', 'Tacos', '110'],\n",
        "             ['11', 'Menudo', '100'],\n",
        "             ['12', 'Flautas', '90'],\n",
        "             ['13', 'Barbacoa', '90'],\n",
        "             ['14', 'Gorditas', '80'],\n",
        "             ['15', 'Pescado', '110'],\n",
        "             ['16', 'Agua de horchata', '30'],\n",
        "             ['17', 'Agua de jamaica', '30'],\n",
        "             ['18', 'Agua de piña', '30'],\n",
        "             ['19', 'Refresco', '40'],\n",
        "             ['20', 'Agua natural', '20']]\n",
        "              \n",
        "def registrar_alimentos():\n",
        "\n",
        "  num = int(input(\"Ingresa la cantidad de alimentos que deseas ingresar: \"))\n",
        "\n",
        "  for alimento in range(num):\n",
        "    id = input(\"Ingresa el ID del alimento: \")\n",
        "    alimento = input(\"Ingresa el nombre del alimento: \")\n",
        "    precio = input(\"Ingresa el precio del alimento: \")\n",
        "\n",
        "    fila = [id, alimento, precio]\n",
        "\n",
        "    alimentos.append(fila)\n",
        " \n",
        "  for alimento in alimentos:\n",
        "    print(alimento)\n",
        "\n",
        "def menu():\n",
        "  print(\"*******************Menú*******************\")\n",
        "  print(f'{\"ID\":<5}{\"Alimento\":<30}{\"Precio\"}')\n",
        "\n",
        "  for alimento in alimentos:\n",
        "    id, comida, precio = alimento\n",
        "    print(f'{id:<5}{comida:<30}${precio}')\n",
        "\n",
        "def comprar():\n",
        "  menu()\n",
        "  compra = []\n",
        "  id_compra = input(\"Ingresa el ID del alimento que deseas comprar: \")\n",
        "\n",
        "  while True:\n",
        "    for alimento in alimentos:\n",
        "      id = alimento[0]\n",
        "      if id == id_compra:\n",
        "        existe = True\n",
        "        break\n",
        "      else:\n",
        "        existe = False\n",
        "\n",
        "    if existe == True:\n",
        "      compra.append(alimento)\n",
        "      subtotal = 0\n",
        "      id, comida, precio = alimento\n",
        "      print(f'{comida:<30}${precio}')\n",
        "    else: \n",
        "      print(\"Por favor ingresa un ID válido del menú\")\n",
        "       \n",
        "    id_compra = input(\"Ingresa el ID del alimento que deseas comprar o 'pagar' si deseas salir: \")\n",
        "\n",
        "    if id_compra == \"pagar\":\n",
        "      print(f'Ticket de compra:')\n",
        "      print(f'{\"Alimento\":<30}{\"Precio\"}')\n",
        "      \n",
        "      for alimento in compra:\n",
        "        id, comida, precio = alimento\n",
        "        subtotal = subtotal + int(precio)\n",
        "        print(f'{comida:<30}${precio}')\n",
        "    \n",
        "      iva = subtotal * 0.16\n",
        "      total = subtotal + iva\n",
        "      print(f'{\"IVA\":<30}${iva}\\n{\"El total a pagar es:\":<30}${total}\\n{\"¡Buen provecho!\"}')\n",
        "      break"
      ]
    }
  ]
}