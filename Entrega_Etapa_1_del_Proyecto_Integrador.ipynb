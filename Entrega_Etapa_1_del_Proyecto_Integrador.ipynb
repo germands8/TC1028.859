{
  "nbformat": 4,
  "nbformat_minor": 0,
  "metadata": {
    "colab": {
      "name": "Entrega Etapa 1 del Proyecto Integrador.ipynb",
      "provenance": [],
      "authorship_tag": "ABX9TyNeJWlfQMZUzgmC8dWlk5n4"
    },
    "kernelspec": {
      "name": "python3",
      "display_name": "Python 3"
    },
    "language_info": {
      "name": "python"
    }
  },
  "cells": [
    {
      "cell_type": "markdown",
      "source": [
        "## Situación problema 1\n",
        "El futuro de la salud con una pandemia única en el siglo"
      ],
      "metadata": {
        "id": "gybZspOyc2bB"
      }
    },
    {
      "cell_type": "code",
      "source": [
        "def menu():\n",
        "  print(\"\"\"Menú de opciones:\n",
        "    1.- Alta de empleado \n",
        "    2.- Calcular imc de empleado\n",
        "    3.- Cambia información del empleado\n",
        "    4.- Consulta un empleado\n",
        "    5.- Reporte de todos los empleados\n",
        "    6.- Salir\"\"\" )\n",
        "  \n",
        "  opcion = int(input(\"Selecciona una opción: \"))\n",
        "\n",
        "  return opcion\n",
        "\n",
        "def main():\n",
        "  \n",
        "  while True:\n",
        "   \n",
        "    opcion = menu()\n",
        "    \n",
        "    if opcion < 1 or opcion > 6:\n",
        "      print(\"Selecciona un número correcto del menú\")\n",
        "      continue\n",
        "    elif opcion == 1:\n",
        "      print(\"Alta empleado\")\n",
        "    elif opcion == 2:\n",
        "      print(\"Calcular IMC\")\n",
        "    elif opcion == 3:\n",
        "      print(\"Actualizar empleado\")\n",
        "    elif opcion == 4:\n",
        "      print(\"Consultar empleado\")\n",
        "    elif opcion == 5:\n",
        "      print(\"Reporte de todos los empleados\")\n",
        "    else:\n",
        "      print(\"Gracias por usar el sistema\")\n",
        "      break\n",
        "\n",
        "main()"
      ],
      "metadata": {
        "colab": {
          "base_uri": "https://localhost:8080/"
        },
        "id": "TC_fgizodcXg",
        "outputId": "54fc1f14-95f8-46de-83aa-4f18af0d54d6"
      },
      "execution_count": 1,
      "outputs": [
        {
          "output_type": "stream",
          "name": "stdout",
          "text": [
            "Menú de opciones:\n",
            "    1.- Alta de empleado \n",
            "    2.- Calcular imc de empleado\n",
            "    3.- Cambia información del empleado\n",
            "    4.- Consulta un empleado\n",
            "    5.- Reporte de todos los empleados\n",
            "    6.- Salir\n",
            "Selecciona una opción: 1\n",
            "Alta empleado\n",
            "Menú de opciones:\n",
            "    1.- Alta de empleado \n",
            "    2.- Calcular imc de empleado\n",
            "    3.- Cambia información del empleado\n",
            "    4.- Consulta un empleado\n",
            "    5.- Reporte de todos los empleados\n",
            "    6.- Salir\n",
            "Selecciona una opción: 6\n",
            "Gracias por usar el sistema\n"
          ]
        }
      ]
    },
    {
      "cell_type": "markdown",
      "source": [
        "# Situación problema 2\n",
        "Nivel de educación en México, evaluación PISA 2018 "
      ],
      "metadata": {
        "id": "_KYV0ODgeFRv"
      }
    },
    {
      "cell_type": "code",
      "source": [
        "def menu():\n",
        "  print(\n",
        "    \"\"\"Menú de opciones:\n",
        "    1.\tAlta de preguntas de prueba PISA (lectura, matemáticas, ciencias)\n",
        "    2.\tActualizar preguntas de la prueba PISA (lectura, matemáticas, ciencias)\n",
        "    3.\tEstudiar preguntas de cierta área (lectura, matemáticas, ciencias)\n",
        "    4.\tPresentar un quiz (lectura, matemáticas, ciencias)\n",
        "    5.\tReporte de calificaciones\n",
        "    6.\tSalir\"\"\"\n",
        "  )\n",
        "  opcion = int(input(\"Selecciona una opción: \"))\n",
        "\n",
        "  return opcion\n",
        "\n",
        "def main():\n",
        "  \n",
        "  while True :\n",
        "   \n",
        "    opcion = menu()\n",
        "    \n",
        "    if opcion < 1 or opcion > 6:\n",
        "      print(\"Selecciona un número correcto del menú\")\n",
        "      continue\n",
        "    elif opcion == 1:\n",
        "      print(\"Registrar pregunta\")\n",
        "    elif opcion == 2:\n",
        "      print(\"Actualizar pregunta\")\n",
        "    elif opcion == 3:\n",
        "      print(\"Estudiar preguntas de un área\")\n",
        "    elif opcion == 4:\n",
        "      print(\"Presentar Quiz\")\n",
        "    elif opcion == 5:\n",
        "      print(\"Reporte de calificaciones\")\n",
        "    else:\n",
        "      print(\"Gracias por usar el sistema\")\n",
        "      break\n",
        "\n",
        "main()"
      ],
      "metadata": {
        "colab": {
          "base_uri": "https://localhost:8080/"
        },
        "id": "aYuuP7Qbc4j8",
        "outputId": "43eb91ad-3e4b-4d02-d776-3c2e57029e68"
      },
      "execution_count": 3,
      "outputs": [
        {
          "output_type": "stream",
          "name": "stdout",
          "text": [
            "Menú de opciones:\n",
            "    1.\tAlta de preguntas de prueba PISA (lectura, matemáticas, ciencias)\n",
            "    2.\tActualizar preguntas de la prueba PISA (lectura, matemáticas, ciencias)\n",
            "    3.\tEstudiar preguntas de cierta área (lectura, matemáticas, ciencias)\n",
            "    4.\tPresentar un quiz (lectura, matemáticas, ciencias)\n",
            "    5.\tReporte de calificaciones\n",
            "    6.\tSalir\n",
            "Selecciona una opción: 1\n",
            "Registrar pregunta\n",
            "Menú de opciones:\n",
            "    1.\tAlta de preguntas de prueba PISA (lectura, matemáticas, ciencias)\n",
            "    2.\tActualizar preguntas de la prueba PISA (lectura, matemáticas, ciencias)\n",
            "    3.\tEstudiar preguntas de cierta área (lectura, matemáticas, ciencias)\n",
            "    4.\tPresentar un quiz (lectura, matemáticas, ciencias)\n",
            "    5.\tReporte de calificaciones\n",
            "    6.\tSalir\n",
            "Selecciona una opción: 6\n",
            "Gracias por usar el sistema\n"
          ]
        }
      ]
    }
  ]
}