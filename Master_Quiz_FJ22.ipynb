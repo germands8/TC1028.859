{
  "nbformat": 4,
  "nbformat_minor": 0,
  "metadata": {
    "colab": {
      "name": "Master Quiz FJ22.ipynb",
      "provenance": [],
      "authorship_tag": "ABX9TyP6EB+lVEvEJALTHo1kHqBc"
    },
    "kernelspec": {
      "name": "python3",
      "display_name": "Python 3"
    },
    "language_info": {
      "name": "python"
    }
  },
  "cells": [
    {
      "cell_type": "markdown",
      "source": [
        "## **Problema**\n",
        "\n",
        "Escribe una función desempeño_alumno( ) que pregunte el nombre de un alumno , el número de semestre que cursa y la cantidad de materias que está cursando en el semestre.. La función deberá también preguntar al alumno las calificaciones de sus materias del semestre actual para calcular e imprimir el promedio sin decimales. Recuerda que 0.5 o más redondea al entero siguiente.\n",
        "\n",
        "La función deberá validar la etapa de estudio del alumno:\n",
        "\n",
        "Si el alumno es de 1ro o 2do o 3er semestre, el alumno se encuentra en etapa de Exploración\n",
        "Si el alumno es de 4to o 5to semestre, el alumno se encuentra en etapa de Enfoque\n",
        "Si el alumno es de 6to a 8vo semestre, el alumno se encuentra en etapa de Especialización\n",
        "\n",
        "La función también deberá validar el desempeño del alumno:\n",
        "\n",
        "Si el promedio es menor que 70, el desempeño del alumno es crítico\n",
        "Si el promedio es mayor o igual que 70 y menor que 80, el desempeño del alumno es bajo\n",
        "Si el promedio es mayor o igual que 80 y menor que 90, el desempeño del alumno es bueno\n",
        "Si el promedio del alumno es mayor o igual que 90, el desempeño muy bueno\n",
        "\n",
        "La función función deberá imprimir:\n",
        "\n",
        "El nombre_alumno se encuentra en etapa de etapa_alumno, su promedio en el semestre semestre_alumno es de promedio_alumno y su desempeño es desempeño_alumno\n",
        "\n",
        "La función también deberá regresar el valor de promedio_alumno"
      ],
      "metadata": {
        "id": "elk9o9l6ZQ2E"
      }
    },
    {
      "cell_type": "code",
      "execution_count": 2,
      "metadata": {
        "colab": {
          "base_uri": "https://localhost:8080/"
        },
        "id": "Q8FBs49_R5CZ",
        "outputId": "7f6c1a2d-1041-43a2-ecdf-e63484dee3b7"
      },
      "outputs": [
        {
          "output_type": "stream",
          "name": "stdout",
          "text": [
            "Ingresa tu nombre: Armando Escándalos\n",
            "Ingresa tu semestre: 4\n",
            "Ingresa la cantidad de materias que cursas este semestre: 5\n",
            "Ingresa la calificación de tu materia 1: 80\n",
            "Ingresa la calificación de tu materia 2: 88\n",
            "Ingresa la calificación de tu materia 3: 100\n",
            "Ingresa la calificación de tu materia 4: 90\n",
            "Ingresa la calificación de tu materia 5: 71\n",
            "El alumno Armando Escándalos se encuentra en etapa de Enfoque, su promedio en el semestre 4 es de 86.0 y su desempeño es Bueno\n"
          ]
        },
        {
          "output_type": "execute_result",
          "data": {
            "text/plain": [
              "86.0"
            ]
          },
          "metadata": {},
          "execution_count": 2
        }
      ],
      "source": [
        "def avance_alumno():\n",
        "  nombre_alumno = input(\"Ingresa tu nombre: \")\n",
        "  semestre_alumno = int(input(\"Ingresa tu semestre: \"))\n",
        "  materias = int(input(\"Ingresa la cantidad de materias que cursas este semestre: \"))\n",
        "  suma = 0\n",
        "\n",
        "  for materia in range(1, materias + 1):\n",
        "    calificacion = int(input(\"Ingresa la calificación de tu materia \" + str(materia) + \": \"))\n",
        "    suma = suma + calificacion\n",
        "\n",
        "  promedio_alumno = round(suma / materias, 0)\n",
        "\n",
        "  if semestre_alumno == 1 or semestre_alumno == 2 or semestre_alumno == 3:\n",
        "    etapa_alumno = \"Exploración\"\n",
        "  elif semestre_alumno == 4 or semestre_alumno == 5:\n",
        "    etapa_alumno = \"Enfoque\"\n",
        "  elif semestre_alumno >= 6 or semestre_alumno <= 8:\n",
        "    etapa_alumno = \"Especialización\"\n",
        "\n",
        "  if promedio_alumno < 70:\n",
        "    desempeño_alumno = \"Crítico\"\n",
        "  elif promedio_alumno >= 70 and promedio_alumno < 80:\n",
        "    desempeño_alumno = \"Bajo\"\n",
        "  elif promedio_alumno >= 80 and promedio_alumno < 90:\n",
        "    desempeño_alumno = \"Bueno\"\n",
        "  else:\n",
        "    desempeño_alumno = \"Muy bueno\"\n",
        "\n",
        "  print(\"El alumno\", nombre_alumno, \"se encuentra en etapa de\", etapa_alumno + \", su promedio en el semestre\", semestre_alumno, \"es de\", promedio_alumno, \"y su desempeño es\", desempeño_alumno)\n",
        "\n",
        "  return promedio_alumno\n",
        "avance_alumno()"
      ]
    }
  ]
}