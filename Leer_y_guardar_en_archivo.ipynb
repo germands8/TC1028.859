{
  "nbformat": 4,
  "nbformat_minor": 0,
  "metadata": {
    "colab": {
      "name": "Leer y guardar en archivo.ipynb",
      "provenance": [],
      "authorship_tag": "ABX9TyMrZoReV6Ork3wUN8m5F0JN"
    },
    "kernelspec": {
      "name": "python3",
      "display_name": "Python 3"
    },
    "language_info": {
      "name": "python"
    }
  },
  "cells": [
    {
      "cell_type": "code",
      "source": [
        "with open(\"alumnos.txt\", \"w\") as archivo:\n",
        "\n",
        "  for alumno in alumnos: #recorremos alumno por alumno\n",
        "    texto = \",\".join(alumno) #convertimos la lista de un alumno en texto\n",
        "    archivo.write(texto + \"\\n\") # guardamos el texto en el archivo, usamos \\n para saltar línea"
      ],
      "metadata": {
        "id": "6D2CV1ZGV9_u"
      },
      "execution_count": 5,
      "outputs": []
    },
    {
      "cell_type": "code",
      "source": [
        "alumnos = []\n",
        "\n",
        "with open(\"alumnos.txt\", \"r\") as archivo:\n",
        "  lista = archivo.readlines()\n",
        "\n",
        "  for elemento in lista: # recorremos elemento por elemento la lista\n",
        "    elemento = elemento[:-1] #quitamos la \\n de cada elemento\n",
        "    elemento = elemento.split(\",\") # convertimos de texto a lista\n",
        "    alumnos.append(elemento) #agregar elemento a la lista de alumnos\n",
        "\n",
        "print(alumnos)"
      ],
      "metadata": {
        "colab": {
          "base_uri": "https://localhost:8080/"
        },
        "id": "vfeZDdRMX5ko",
        "outputId": "b9b8fbab-d81e-445b-9690-09e595347ebc"
      },
      "execution_count": 10,
      "outputs": [
        {
          "output_type": "stream",
          "name": "stdout",
          "text": [
            "[['1', 'Armando', '18'], ['2', 'Mikoko', '20'], ['3', 'Henry', '21'], ['4', 'José', '21']]\n"
          ]
        }
      ]
    }
  ]
}