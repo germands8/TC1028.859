{
  "nbformat": 4,
  "nbformat_minor": 0,
  "metadata": {
    "colab": {
      "name": "Actividad 11 Listas - FJ22.ipynb",
      "provenance": [],
      "authorship_tag": "ABX9TyPpE95XFg/maSZeC+3wEMP5"
    },
    "kernelspec": {
      "name": "python3",
      "display_name": "Python 3"
    },
    "language_info": {
      "name": "python"
    }
  },
  "cells": [
    {
      "cell_type": "markdown",
      "source": [
        "## Explicación de listas"
      ],
      "metadata": {
        "id": "jmeTazSePvvv"
      }
    },
    {
      "cell_type": "code",
      "source": [
        "carrito_super = [] # lista vacía\n",
        "\n",
        "carrito_super = [\"Frutas\", \"Carne\", \"Cereal,\", \"Pan\", \"Leche\", 1000, True]\n",
        "\n",
        "print(carrito_super[4])\n",
        "print(carrito_super[6])\n",
        "print(carrito_super[0])\n",
        "# carrito_super.append(input(\"Ingresa un alimento al carrito: \")) # append agrega datos al final de la lista\n",
        "print(carrito_super)\n",
        "carrito_super[0] = \"Queso\" # cambiar frutas por queso\n",
        "print(carrito_super)"
      ],
      "metadata": {
        "colab": {
          "base_uri": "https://localhost:8080/"
        },
        "id": "vRXODlMtPyia",
        "outputId": "35d3b5e9-edb4-4bde-fe15-49dab88f5ec7"
      },
      "execution_count": 7,
      "outputs": [
        {
          "output_type": "stream",
          "name": "stdout",
          "text": [
            "Leche\n",
            "True\n",
            "Frutas\n",
            "['Frutas', 'Carne', 'Cereal,', 'Pan', 'Leche', 1000, True]\n",
            "['Queso', 'Carne', 'Cereal,', 'Pan', 'Leche', 1000, True]\n"
          ]
        }
      ]
    },
    {
      "cell_type": "markdown",
      "source": [
        "## **Problema 1**\n",
        "Crea una lista que almancene tu matrícula, nombre y apellido y carrera. Imprime cada uno de los datos en una línea diferente."
      ],
      "metadata": {
        "id": "e4aBFhCBPnjq"
      }
    },
    {
      "cell_type": "code",
      "execution_count": 13,
      "metadata": {
        "colab": {
          "base_uri": "https://localhost:8080/"
        },
        "id": "cnqT5eXxPj9B",
        "outputId": "f0cf0936-b3a8-45d3-c3f1-294871bf56e3"
      },
      "outputs": [
        {
          "output_type": "stream",
          "name": "stdout",
          "text": [
            "Matrícula: A01111531\n",
            "Nombre: Mikoko Sizuda\n",
            "Carrera: ITC\n"
          ]
        }
      ],
      "source": [
        "estudiante = [\"A01111531\", \"Mikoko Sizuda\", \"ITC\"]\n",
        "\n",
        "print(\"Matrícula:\", estudiante[0])\n",
        "print(\"Nombre:\", estudiante[1])\n",
        "print(\"Carrera:\", estudiante[2])"
      ]
    },
    {
      "cell_type": "markdown",
      "source": [
        "## **Problema 2**\n",
        "Crea una lista con el nombre de 3 personas. Imprime cada elemento de la lista mediante un ciclo for."
      ],
      "metadata": {
        "id": "eLQ50b6BTch1"
      }
    },
    {
      "cell_type": "code",
      "source": [
        "personas = [\"Gina\", \"Lucy\", \"Ana\"]\n",
        "\n",
        "for nombre in personas:\n",
        "  print(nombre)\n",
        "\n",
        "for nombre in range(len(personas)):\n",
        "  print(personas[nombre])"
      ],
      "metadata": {
        "colab": {
          "base_uri": "https://localhost:8080/"
        },
        "id": "hx0OSlYzS7v4",
        "outputId": "5b52e584-7cb4-4b9f-f104-b0d512f32eaf"
      },
      "execution_count": 20,
      "outputs": [
        {
          "output_type": "stream",
          "name": "stdout",
          "text": [
            "Gina\n",
            "Lucy\n",
            "Ana\n",
            "Gina\n",
            "Lucy\n",
            "Ana\n"
          ]
        }
      ]
    },
    {
      "cell_type": "markdown",
      "source": [
        "## **Problema 3**\n",
        "Crea un programa donde el usuario pueda introducir mediante el teclado nombres 3 libros, los cuales deberás ir guardando en una lista. Al final, imprime la lista de libros."
      ],
      "metadata": {
        "id": "pamAbOS0VUqR"
      }
    },
    {
      "cell_type": "code",
      "source": [
        "libros = []\n",
        "\n",
        "for numero in range(3):\n",
        "  #libro = input(\"Ingresa el nombre del libro: \") # preguntamos por el libro\n",
        "  \n",
        "  libros.append(input(\"Ingresa el nombre del libro: \")) # guardamos el libros en la lista de libros\n",
        "\n",
        "\n",
        "print(libros)"
      ],
      "metadata": {
        "colab": {
          "base_uri": "https://localhost:8080/"
        },
        "id": "SDFrmG-jT0UD",
        "outputId": "02dc880e-285a-426e-bf1a-513ed7d8970c"
      },
      "execution_count": 23,
      "outputs": [
        {
          "output_type": "stream",
          "name": "stdout",
          "text": [
            "Ingresa el nombre del libro: Física\n",
            "[]\n",
            "['Física']\n",
            "Ingresa el nombre del libro: Mate\n",
            "['Física']\n",
            "['Física', 'Mate']\n",
            "Ingresa el nombre del libro: Progra\n",
            "['Física', 'Mate']\n",
            "['Física', 'Mate', 'Progra']\n",
            "['Física', 'Mate', 'Progra']\n"
          ]
        }
      ]
    },
    {
      "cell_type": "markdown",
      "source": [
        "## **Problema 4**\n",
        "Crea una lista que simule las calificaciones de 10 actividades de un alumno. Supón que debido al excepcional desempeño del alumno, el profesor ha decidido aumentar 5 puntos. Tu programa deberá aumentar a cada calificación los 5 puntos (recordando que la calificación máxima es de 100 y no puede pasarse)."
      ],
      "metadata": {
        "id": "a-jkf0ufXQPP"
      }
    },
    {
      "cell_type": "code",
      "source": [
        "calificaciones = [100, 90, 95, 92, 89, 92, 96, 100, 94, 97]\n",
        "\n",
        "for nota in range(len(calificaciones)):\n",
        "\n",
        "  if calificaciones[nota] >= 95:\n",
        "    calificaciones[nota] = 100\n",
        "  else:\n",
        "    calificaciones[nota] = calificaciones[nota] + 5\n",
        "\n",
        "print(calificaciones)"
      ],
      "metadata": {
        "colab": {
          "base_uri": "https://localhost:8080/"
        },
        "id": "B1pMdpjHWaOt",
        "outputId": "112514fe-8f62-498f-f7da-5a4b46e95f0a"
      },
      "execution_count": 29,
      "outputs": [
        {
          "output_type": "stream",
          "name": "stdout",
          "text": [
            "[100, 95, 100, 97, 94, 97, 100, 100, 99, 100]\n"
          ]
        }
      ]
    },
    {
      "cell_type": "markdown",
      "source": [
        "## **Problema 5**\n",
        "Escribe una función que convierta un número entero en lista, la función deberá recibir un número entero y regresar una lista con todos los dígitos del numero.\n",
        "\n",
        "Ejemplo\n",
        "\n",
        "Si el número entero es 575, la lista resultante sería [5,7,5]"
      ],
      "metadata": {
        "id": "IlGPRH0RaX5h"
      }
    },
    {
      "cell_type": "code",
      "source": [
        "def entero_lista(numero):\n",
        "\n",
        "\n",
        "  lista = list(str(numero)) # primero convertimos el número entero a string, para luego convertirlo a lista\n",
        "\n",
        "  for num in range(len(lista)):\n",
        "    lista[num] = int(lista[num]) # convertimos de string a entero, número por número\n",
        "  \n",
        "  return(lista)\n",
        "\n",
        "entero_lista(575)"
      ],
      "metadata": {
        "colab": {
          "base_uri": "https://localhost:8080/"
        },
        "id": "DX5gozaoYTY1",
        "outputId": "eb525a33-242b-4dbb-889f-0754ca914a29"
      },
      "execution_count": 32,
      "outputs": [
        {
          "output_type": "execute_result",
          "data": {
            "text/plain": [
              "[5, 7, 5]"
            ]
          },
          "metadata": {},
          "execution_count": 32
        }
      ]
    }
  ]
}