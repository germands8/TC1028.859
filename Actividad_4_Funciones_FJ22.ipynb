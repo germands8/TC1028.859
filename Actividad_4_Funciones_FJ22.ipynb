{
  "nbformat": 4,
  "nbformat_minor": 0,
  "metadata": {
    "colab": {
      "name": "Actividad 4 - Funciones FJ22.ipynb",
      "provenance": [],
      "authorship_tag": "ABX9TyPFu1ueOwLp9rWDOa+1nsu4"
    },
    "kernelspec": {
      "name": "python3",
      "display_name": "Python 3"
    },
    "language_info": {
      "name": "python"
    }
  },
  "cells": [
    {
      "cell_type": "markdown",
      "source": [
        "### Problema 1\n",
        "¿Qué aparece en la pantalla si se ejecuta el siguiente código de Python?:"
      ],
      "metadata": {
        "id": "8wisWkAC-Sqm"
      }
    },
    {
      "cell_type": "code",
      "execution_count": 1,
      "metadata": {
        "colab": {
          "base_uri": "https://localhost:8080/"
        },
        "id": "lNCzMf2e-FId",
        "outputId": "de9b6e75-5277-461d-e837-0809e6478f47"
      },
      "outputs": [
        {
          "output_type": "stream",
          "name": "stdout",
          "text": [
            "10 18\n",
            "5 8 18\n"
          ]
        }
      ],
      "source": [
        "# código general del programa\n",
        "\n",
        "\n",
        "\n",
        "#--------------------------\n",
        "def uno(a, b) :\n",
        "     a = a + 5\n",
        "     b += 10\n",
        "     print(a, b) # imprime 10 18\n",
        "     return b\n",
        "#--------------------------\n",
        "\n",
        "\n",
        "\n",
        "\n",
        "#--------------------------\n",
        "def main() :\n",
        "     x = 5\n",
        "     y = 8\n",
        "     z = uno(x, y) # mandamos llamar a la función uno con los datos x y y\n",
        "     print(x, y, z) # imprime 5 8 18\n",
        "#--------------------------\n",
        "\n",
        "main()\n"
      ]
    },
    {
      "cell_type": "markdown",
      "source": [
        "### **Problema 2**\n",
        "Escribe una función llamada equivalente que reciba como parámetro una cantidad de horas, minutos y segundos, y regrese como valor de retorno el tiempo equivalente en segundos.\n",
        "\n",
        "Por ejemplo:\n",
        "\n",
        "Si la función recibe los valores horas = 2, minutos = 20 y segundos = 8, regresará el valor 8408.\n",
        "\n",
        "Nota que la función no mostrará nada, solo regresa como valor de retorno la cantidad de segundos equivalente.\n",
        "\n",
        "Ahora, escribe una función main en la que pidas al usuario teclear cuánto tiempo en horas, minutos y segundos han tardado 2 procesos. Después de pedir el tiempo que dura cada proceso, muestra el tiempo equivalente en segundos de dicho proceso."
      ],
      "metadata": {
        "id": "ZhGaKzoG_dPw"
      }
    },
    {
      "cell_type": "code",
      "source": [
        "def equivalente(h, m, s):\n",
        "\n",
        "  segundos_totales = h * 60 * 60 + m * 60 + s\n",
        "\n",
        "  return segundos_totales\n",
        "\n",
        "def main():\n",
        "  horas = int(input(\"Ingresa el número de horas: \"))\n",
        "  minutos = int(input(\"Ingresa el número de minutos: \"))\n",
        "  segundos = int(input(\"Ingresa el número de segundos: \"))\n",
        "  \n",
        "  print(\"El total de segundos es\", equivalente(horas, minutos, segundos), \"segundos\")\n",
        "\n",
        "main()\n",
        "main()\n"
      ],
      "metadata": {
        "colab": {
          "base_uri": "https://localhost:8080/"
        },
        "id": "a9tTAFbN_c4h",
        "outputId": "b410aa4e-c3b5-4fc1-b468-26a87a6838c6"
      },
      "execution_count": 11,
      "outputs": [
        {
          "output_type": "stream",
          "name": "stdout",
          "text": [
            "Ingresa el número de horas: 2\n",
            "Ingresa el número de minutos: 20\n",
            "Ingresa el número de segundos: 8\n",
            "El total de segundos es 8408 segundos\n",
            "Ingresa el número de horas: 2\n",
            "Ingresa el número de minutos: 20\n",
            "Ingresa el número de segundos: 10\n",
            "El total de segundos es 8410 segundos\n"
          ]
        }
      ]
    },
    {
      "cell_type": "markdown",
      "source": [
        "### **Problema 3**\n",
        "Escribe una función llamada area_rectangulo que reciba como parámetro el largo y ancho de un rectángulo y que regresa como valor de retorno el área del rectángulo.\n",
        "\n",
        "Escribe una función llamada perimetro_rectangulo que reciba como parámetro el largo y ancho de un rectángulo y que regresa como valor de retorno el perímetro del rectángulo.\n",
        "\n",
        "Observa que dentro de las funciones no mostrarás nada, solo regresarás el valor calculado usando return.\n",
        "\n",
        "Escribe ahora una función main que pregunte al usuario el largo y ancho del rectángulo (puedes pedir una clave a para área y p para perímetro) y después muestre el valor correspondiente al cálculo."
      ],
      "metadata": {
        "id": "LSxhNb93HY2H"
      }
    },
    {
      "cell_type": "code",
      "source": [
        "def area_rectangulo(largo, ancho):\n",
        "  area_rectangulo = largo * ancho\n",
        "  return area_rectangulo\n",
        "\n",
        "def perimetro_rectangulo(largo, ancho):\n",
        "  perimetro_rectangulo = largo * 2 + ancho * 2\n",
        "  return perimetro_rectangulo\n",
        "\n",
        "def main():\n",
        "  l = int(input(\"Ingresa el largo del rectángulo: \"))\n",
        "  a = int(input(\"Ingresa el ancho del rectángulo: \"))\n",
        "  \n",
        "  print(\"El área del rectángulo con esos datos es\", area_rectangulo(l, a))\n",
        "  print(\"El perímetro del rectángulo con esos datos es\", perimetro_rectangulo(l, a))\n",
        "\n",
        "main()"
      ],
      "metadata": {
        "colab": {
          "base_uri": "https://localhost:8080/"
        },
        "id": "DI1V94FdHapo",
        "outputId": "9325a371-a100-490f-f32a-39161a626dcd"
      },
      "execution_count": 15,
      "outputs": [
        {
          "output_type": "stream",
          "name": "stdout",
          "text": [
            "Ingresa el largo del rectángulo: 10\n",
            "Ingresa el ancho del rectángulo: 5\n",
            "El área del rectángulo con esos datos es 50\n",
            "El perímetro del rectángulo con esos datos es 30\n"
          ]
        }
      ]
    }
  ]
}