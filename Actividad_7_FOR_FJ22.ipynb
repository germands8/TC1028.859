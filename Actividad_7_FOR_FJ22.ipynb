{
  "nbformat": 4,
  "nbformat_minor": 0,
  "metadata": {
    "colab": {
      "name": "Actividad 7 FOR - FJ22.ipynb",
      "provenance": [],
      "authorship_tag": "ABX9TyMKNbpiYcI12drSEU+RSNRg"
    },
    "kernelspec": {
      "name": "python3",
      "display_name": "Python 3"
    },
    "language_info": {
      "name": "python"
    }
  },
  "cells": [
    {
      "cell_type": "markdown",
      "source": [
        "# Explicación del ciclo FOR"
      ],
      "metadata": {
        "id": "bz_HRriCnEey"
      }
    },
    {
      "cell_type": "code",
      "execution_count": null,
      "metadata": {
        "id": "8885UAyNm-JL"
      },
      "outputs": [],
      "source": [
        "msj = \"ja\""
      ]
    },
    {
      "cell_type": "code",
      "source": [
        "msj * 5"
      ],
      "metadata": {
        "colab": {
          "base_uri": "https://localhost:8080/",
          "height": 35
        },
        "id": "28h_gNHLnN-C",
        "outputId": "ff17e96a-685f-4230-8e27-a97cbc59b240"
      },
      "execution_count": null,
      "outputs": [
        {
          "output_type": "execute_result",
          "data": {
            "application/vnd.google.colaboratory.intrinsic+json": {
              "type": "string"
            },
            "text/plain": [
              "'jajajajaja'"
            ]
          },
          "metadata": {},
          "execution_count": 2
        }
      ]
    },
    {
      "cell_type": "code",
      "source": [
        "for linea in range(5):\n",
        "  print(msj * 5)"
      ],
      "metadata": {
        "colab": {
          "base_uri": "https://localhost:8080/"
        },
        "id": "DJ6hOk7AnQmP",
        "outputId": "d35371e2-fcb0-483c-cd3b-8ab0b6c44db3"
      },
      "execution_count": null,
      "outputs": [
        {
          "output_type": "stream",
          "name": "stdout",
          "text": [
            "jajajajaja\n",
            "jajajajaja\n",
            "jajajajaja\n",
            "jajajajaja\n",
            "jajajajaja\n"
          ]
        }
      ]
    },
    {
      "cell_type": "code",
      "source": [
        "for num in range(5):\n",
        "  print(num)"
      ],
      "metadata": {
        "colab": {
          "base_uri": "https://localhost:8080/"
        },
        "id": "dE5G0HVFnXU8",
        "outputId": "248310f2-559d-404b-db3e-53e1ea056870"
      },
      "execution_count": null,
      "outputs": [
        {
          "output_type": "stream",
          "name": "stdout",
          "text": [
            "0\n",
            "1\n",
            "2\n",
            "3\n",
            "4\n"
          ]
        }
      ]
    },
    {
      "cell_type": "code",
      "source": [
        "for num in range(5):\n",
        "  print(\"a\")"
      ],
      "metadata": {
        "colab": {
          "base_uri": "https://localhost:8080/"
        },
        "id": "8FHdIBWfn7s-",
        "outputId": "e5d5e5f0-38f3-46f1-b50f-ec097d805b99"
      },
      "execution_count": null,
      "outputs": [
        {
          "output_type": "stream",
          "name": "stdout",
          "text": [
            "a\n",
            "a\n",
            "a\n",
            "a\n",
            "a\n"
          ]
        }
      ]
    },
    {
      "cell_type": "code",
      "source": [
        "for num in range(1, 10):\n",
        "  print(\"Ciclo\", num)"
      ],
      "metadata": {
        "colab": {
          "base_uri": "https://localhost:8080/"
        },
        "id": "jyoNQshGoeE0",
        "outputId": "562d69cd-7bc8-4331-8f6a-aa3d7cf74c4b"
      },
      "execution_count": null,
      "outputs": [
        {
          "output_type": "stream",
          "name": "stdout",
          "text": [
            "Ciclo 1\n",
            "Ciclo 2\n",
            "Ciclo 3\n",
            "Ciclo 4\n",
            "Ciclo 5\n",
            "Ciclo 6\n",
            "Ciclo 7\n",
            "Ciclo 8\n",
            "Ciclo 9\n"
          ]
        }
      ]
    },
    {
      "cell_type": "code",
      "source": [
        "print(\"Ciclo 1\")\n",
        "print(\"Ciclo 2\")\n",
        "print(\"Ciclo 3\")\n",
        "print(\"Ciclo 4\")\n",
        "print(\"Ciclo 5\")\n",
        "print(\"Ciclo 6\")\n",
        "print(\"Ciclo 7\")\n",
        "print(\"Ciclo 8\")\n",
        "print(\"Ciclo 9\")\n",
        "print(\"Ciclo 10\")"
      ],
      "metadata": {
        "colab": {
          "base_uri": "https://localhost:8080/"
        },
        "id": "fQaztBcnpVKO",
        "outputId": "328668bd-c8c6-4dfd-cb65-1aeb40e3c9da"
      },
      "execution_count": null,
      "outputs": [
        {
          "output_type": "stream",
          "name": "stdout",
          "text": [
            "Ciclo 1\n",
            "Ciclo 2\n",
            "Ciclo 3\n",
            "Ciclo 4\n",
            "Ciclo 5\n",
            "Ciclo 6\n",
            "Ciclo 7\n",
            "Ciclo 8\n",
            "Ciclo 9\n",
            "Ciclo 10\n"
          ]
        }
      ]
    },
    {
      "cell_type": "markdown",
      "source": [
        "## **Problema 1**\n",
        "Muestra una serie de números que empiezan en a y se vayan incrementando de 5 en 5 hasta llegar a b, donde a y b son dos número capturados por el usuario; asume que a siempre es menor que b "
      ],
      "metadata": {
        "id": "GYX4EIfHqaHu"
      }
    },
    {
      "cell_type": "code",
      "source": [
        "a = int(input(\"Ingresa el número inicial: \"))\n",
        "b = int(input(\"Ingresa el número final: \"))\n",
        "\n",
        "for numero in range(a, b + 1, 5): # incremento de 5 en 5, iniciando en a y terminando en b (b + 1)\n",
        "  print(numero)"
      ],
      "metadata": {
        "colab": {
          "base_uri": "https://localhost:8080/"
        },
        "id": "62UdaMvUqb3m",
        "outputId": "8a0b512e-2239-4bb6-ecaa-93f72f9d3cb3"
      },
      "execution_count": null,
      "outputs": [
        {
          "output_type": "stream",
          "name": "stdout",
          "text": [
            "Ingresa el número inicial: 10\n",
            "Ingresa el número final: 30\n",
            "10\n",
            "15\n",
            "20\n",
            "25\n",
            "30\n"
          ]
        }
      ]
    },
    {
      "cell_type": "markdown",
      "source": [
        "## **Problema 2**\n",
        "Muestra el valor de la sumatoria de todos los números desde el 1 hasta n, donde n es un número entero capturado por el usuario.\n",
        "\n",
        "Por ejemplo:\n",
        "Si n = 10, deberás de mostrar:\n",
        "\n",
        "suma = 55"
      ],
      "metadata": {
        "id": "0KqUZCAQsH6t"
      }
    },
    {
      "cell_type": "code",
      "source": [
        "n = int(input(\"Ingresa el valor de n: \"))\n",
        "\n",
        "acumulador = 0\n",
        "\n",
        "for num in range(1, n + 1):\n",
        "\n",
        "  print(\"El acumulado actual es:\", acumulador)\n",
        "  acumulador = acumulador + num\n",
        "  print(\"El número sumado es: \", num)\n",
        "  print(\"El total acumulado nuevo es\", acumulador)\n",
        "\n",
        "print(\"Suma =\", acumulador)"
      ],
      "metadata": {
        "colab": {
          "base_uri": "https://localhost:8080/"
        },
        "id": "RJ8xxDKXsJtS",
        "outputId": "268d804d-f804-49bb-9980-260d79b3b96c"
      },
      "execution_count": null,
      "outputs": [
        {
          "output_type": "stream",
          "name": "stdout",
          "text": [
            "Ingresa el valor de n: 10\n",
            "El acumulado actual es: 0\n",
            "El número sumado es:  1\n",
            "El total acumulado nuevo es 1\n",
            "El acumulado actual es: 1\n",
            "El número sumado es:  2\n",
            "El total acumulado nuevo es 3\n",
            "El acumulado actual es: 3\n",
            "El número sumado es:  3\n",
            "El total acumulado nuevo es 6\n",
            "El acumulado actual es: 6\n",
            "El número sumado es:  4\n",
            "El total acumulado nuevo es 10\n",
            "El acumulado actual es: 10\n",
            "El número sumado es:  5\n",
            "El total acumulado nuevo es 15\n",
            "El acumulado actual es: 15\n",
            "El número sumado es:  6\n",
            "El total acumulado nuevo es 21\n",
            "El acumulado actual es: 21\n",
            "El número sumado es:  7\n",
            "El total acumulado nuevo es 28\n",
            "El acumulado actual es: 28\n",
            "El número sumado es:  8\n",
            "El total acumulado nuevo es 36\n",
            "El acumulado actual es: 36\n",
            "El número sumado es:  9\n",
            "El total acumulado nuevo es 45\n",
            "El acumulado actual es: 45\n",
            "El número sumado es:  10\n",
            "El total acumulado nuevo es 55\n",
            "Suma = 55\n"
          ]
        }
      ]
    },
    {
      "cell_type": "markdown",
      "source": [
        "## **Problema 3**\n",
        "Calcula el factorial de un número N, donde N es un número que el usuario captura.\n",
        "\n",
        "El factorial de un número N es: factorial=1×2×3×4×...×N\n",
        "\n",
        "Asume que los valores capturados por el usuario son mayores a 0"
      ],
      "metadata": {
        "id": "5xIA8Ws0vhQT"
      }
    },
    {
      "cell_type": "code",
      "source": [
        "n = int(input(\"Ingresa el valor de N: \"))\n",
        "\n",
        "factorial = 1\n",
        "\n",
        "for num in range(1, n + 1):\n",
        "\n",
        "  factorial = factorial * num\n",
        "\n",
        "print(\"El factorial de\", n, \"es\", factorial)"
      ],
      "metadata": {
        "colab": {
          "base_uri": "https://localhost:8080/"
        },
        "id": "Wtg28BNSseyz",
        "outputId": "abaa30e9-e602-4e47-ed09-daecdd32b2e2"
      },
      "execution_count": null,
      "outputs": [
        {
          "output_type": "stream",
          "name": "stdout",
          "text": [
            "Ingresa el valor de N: 8\n",
            "El factorial de 8 es 40320\n"
          ]
        }
      ]
    },
    {
      "cell_type": "markdown",
      "source": [
        "## **Problema 4**\n",
        "Muestra en pantalla n caracteres que alternan entre # y %, donde n es un número entero capturado por el usuario.\n",
        "Los caracteres se deben mostrar uno en cada renglón.\n",
        "Observa que el primer caracter que se debe mostrar siempre es #\n",
        "\n",
        "Por ejemplo:\n",
        "Si n = 5, deberás de mostrar:\n",
        "\n",
        "#\n",
        "\n",
        "%\n",
        "\n",
        "#\n",
        "\n",
        "%\n",
        "\n",
        "#"
      ],
      "metadata": {
        "id": "pm9s490ixunD"
      }
    },
    {
      "cell_type": "code",
      "source": [
        "n = int(input(\"Ingresa el valor de n: \"))\n",
        "\n",
        "for numero in range(n):\n",
        "  \n",
        "  if numero % 2 == 0: #validar si el número es par, calculando el residuo\n",
        "    print(\"#\")\n",
        "  else:\n",
        "    print(\"%\")"
      ],
      "metadata": {
        "colab": {
          "base_uri": "https://localhost:8080/"
        },
        "id": "PqehD06IxwSR",
        "outputId": "159706da-effe-4953-aab3-54190e1520dc"
      },
      "execution_count": null,
      "outputs": [
        {
          "output_type": "stream",
          "name": "stdout",
          "text": [
            "Ingresa el valor de n: 5\n",
            "#\n",
            "%\n",
            "#\n",
            "%\n",
            "#\n"
          ]
        }
      ]
    },
    {
      "cell_type": "code",
      "source": [
        "n = int(input(\"Ingresa el valor de n: \"))\n",
        "\n",
        "simbolo = \"#\"\n",
        "\n",
        "for numero in range(n):\n",
        "  print(simbolo)\n",
        "  if simbolo == \"#\":\n",
        "    simbolo = \"%\"\n",
        "  else:\n",
        "    simbolo = \"#\""
      ],
      "metadata": {
        "colab": {
          "base_uri": "https://localhost:8080/"
        },
        "id": "kuZyKUN10ILv",
        "outputId": "976943b3-c6c5-499a-8935-5d0310c1ef58"
      },
      "execution_count": null,
      "outputs": [
        {
          "output_type": "stream",
          "name": "stdout",
          "text": [
            "Ingresa el valor de n: 5\n",
            "#\n",
            "%\n",
            "#\n",
            "%\n",
            "#\n"
          ]
        }
      ]
    },
    {
      "cell_type": "markdown",
      "source": [
        "## **Problema 5**\n",
        "Escribe un programa que lea un número entero positivo n y muestre una lista de números que empieza en 1 e incrementa de uno en uno hasta llegar a n y después decrementa de uno en uno hasta llegar a 1:\n",
        "1, 2, ... n, n-1, n-2 ... 1\n",
        "\n",
        "Por ejemplo:\n",
        "\n",
        "Si n = 5 el programa debe mostrar:\n",
        "1, 2, 3, 4, 5, 4, 3, 2, 1\n",
        "\n",
        "Nota: Los números deben estar separados por una coma y después un espacio. Observa que después del último número no hay coma."
      ],
      "metadata": {
        "id": "vqG_O1561Nan"
      }
    },
    {
      "cell_type": "code",
      "source": [
        "n = int(input(\"Ingresa el valor de n: \"))\n",
        "cadena = \"\"\n",
        "\n",
        "for num in range(1, n + 1):\n",
        "  # print(num)\n",
        "  cadena = cadena + str(num) + \", \"\n",
        "  # print(cadena)\n",
        "\n",
        "for num in range(n - 1, 0, -1):\n",
        "  # print(num)\n",
        "  if num == 1:\n",
        "    cadena = cadena + str(num)\n",
        "  else:\n",
        "    cadena = cadena + str(num) + \", \"\n",
        "  # print(cadena)\n",
        "\n",
        "print(cadena)"
      ],
      "metadata": {
        "colab": {
          "base_uri": "https://localhost:8080/"
        },
        "id": "dXGqDEQi0Pbp",
        "outputId": "f5a5ecd3-6bfa-4b0b-b20e-d852cab8406f"
      },
      "execution_count": null,
      "outputs": [
        {
          "output_type": "stream",
          "name": "stdout",
          "text": [
            "Ingresa el valor de n: 5\n",
            "1, 2, 3, 4, 5, 4, 3, 2, 1\n"
          ]
        }
      ]
    }
  ]
}