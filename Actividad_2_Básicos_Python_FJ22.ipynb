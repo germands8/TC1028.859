{
  "nbformat": 4,
  "nbformat_minor": 0,
  "metadata": {
    "colab": {
      "name": "Actividad 2 Básicos Python FJ22.ipynb",
      "provenance": [],
      "authorship_tag": "ABX9TyPKov9bY0QWvqIFUXMcOyjC"
    },
    "kernelspec": {
      "name": "python3",
      "display_name": "Python 3"
    },
    "language_info": {
      "name": "python"
    }
  },
  "cells": [
    {
      "cell_type": "markdown",
      "source": [
        "# Elementos básicos de **Python**"
      ],
      "metadata": {
        "id": "IbtTPf_XFtD0"
      }
    },
    {
      "cell_type": "markdown",
      "source": [
        "### Operaciones"
      ],
      "metadata": {
        "id": "QZ7xSar1Ggj9"
      }
    },
    {
      "cell_type": "code",
      "source": [
        "4 + 4"
      ],
      "metadata": {
        "colab": {
          "base_uri": "https://localhost:8080/"
        },
        "id": "oVuQYQEVF0lB",
        "outputId": "8d966fca-ba74-4676-a5a9-5acb9636e7cf"
      },
      "execution_count": null,
      "outputs": [
        {
          "output_type": "execute_result",
          "data": {
            "text/plain": [
              "8"
            ]
          },
          "metadata": {},
          "execution_count": 3
        }
      ]
    },
    {
      "cell_type": "code",
      "source": [
        "2 + 2"
      ],
      "metadata": {
        "colab": {
          "base_uri": "https://localhost:8080/"
        },
        "id": "UfuaJgniGlrj",
        "outputId": "0953f38e-aafd-439d-b0be-e79a285da56e"
      },
      "execution_count": null,
      "outputs": [
        {
          "output_type": "execute_result",
          "data": {
            "text/plain": [
              "4"
            ]
          },
          "metadata": {},
          "execution_count": 4
        }
      ]
    },
    {
      "cell_type": "code",
      "source": [
        "45 * 4 + 25 / 2 ** 5"
      ],
      "metadata": {
        "colab": {
          "base_uri": "https://localhost:8080/"
        },
        "id": "VwjrUyZJIAPt",
        "outputId": "fa17c469-90e6-48a1-8e47-84bfe295a46d"
      },
      "execution_count": null,
      "outputs": [
        {
          "output_type": "execute_result",
          "data": {
            "text/plain": [
              "180.78125"
            ]
          },
          "metadata": {},
          "execution_count": 5
        }
      ]
    },
    {
      "cell_type": "markdown",
      "source": [
        "### Tipos de datos en Python"
      ],
      "metadata": {
        "id": "2hLd_1t9JETK"
      }
    },
    {
      "cell_type": "code",
      "source": [
        "edad = 18 # tipo de dato entero (interger)\n",
        "type(edad) # función para ver el tipo de dato de una variable type( )"
      ],
      "metadata": {
        "colab": {
          "base_uri": "https://localhost:8080/"
        },
        "id": "09VVHOyTJLK_",
        "outputId": "69097cd7-99df-4eff-d897-5dd915c9d48a"
      },
      "execution_count": null,
      "outputs": [
        {
          "output_type": "execute_result",
          "data": {
            "text/plain": [
              "int"
            ]
          },
          "metadata": {},
          "execution_count": 14
        }
      ]
    },
    {
      "cell_type": "code",
      "source": [
        "dolar = 20.26 # tipo de dato decimal (float)\n",
        "type(dolar)"
      ],
      "metadata": {
        "colab": {
          "base_uri": "https://localhost:8080/"
        },
        "id": "FRVm1BNYJdXh",
        "outputId": "c9b1ed26-b479-4d63-a871-264f5bab5025"
      },
      "execution_count": null,
      "outputs": [
        {
          "output_type": "execute_result",
          "data": {
            "text/plain": [
              "float"
            ]
          },
          "metadata": {},
          "execution_count": 15
        }
      ]
    },
    {
      "cell_type": "code",
      "source": [
        "nombre = \"Germán\" # tipo de dato, cadena de texto (string)\n",
        "type(nombre)"
      ],
      "metadata": {
        "colab": {
          "base_uri": "https://localhost:8080/"
        },
        "id": "FILu_z5zKVlM",
        "outputId": "117a6108-2ff6-44b0-9368-a0e5d982a101"
      },
      "execution_count": null,
      "outputs": [
        {
          "output_type": "execute_result",
          "data": {
            "text/plain": [
              "str"
            ]
          },
          "metadata": {},
          "execution_count": 16
        }
      ]
    },
    {
      "cell_type": "code",
      "source": [
        "calificacion = 90.0\n",
        "type(calificacion)"
      ],
      "metadata": {
        "colab": {
          "base_uri": "https://localhost:8080/"
        },
        "id": "Cdkj3ubfKK6w",
        "outputId": "c04f85d9-ba9d-464a-92db-ee94d04c0974"
      },
      "execution_count": null,
      "outputs": [
        {
          "output_type": "execute_result",
          "data": {
            "text/plain": [
              "float"
            ]
          },
          "metadata": {},
          "execution_count": 17
        }
      ]
    },
    {
      "cell_type": "code",
      "source": [
        "tiene_covid = False # tipo de dato booleano (Bool)\n",
        "type(tiene_covid)"
      ],
      "metadata": {
        "colab": {
          "base_uri": "https://localhost:8080/"
        },
        "id": "oQulxFZiMLjJ",
        "outputId": "fed6d73d-09ca-4395-937f-efa6bf6d1783"
      },
      "execution_count": null,
      "outputs": [
        {
          "output_type": "execute_result",
          "data": {
            "text/plain": [
              "bool"
            ]
          },
          "metadata": {},
          "execution_count": 18
        }
      ]
    },
    {
      "cell_type": "code",
      "source": [
        "vacuna = True\n",
        "type(vacuna)"
      ],
      "metadata": {
        "colab": {
          "base_uri": "https://localhost:8080/"
        },
        "id": "JIZ4bkGhMTKV",
        "outputId": "27c2422d-1791-4808-ac05-9c6fbca291d7"
      },
      "execution_count": null,
      "outputs": [
        {
          "output_type": "execute_result",
          "data": {
            "text/plain": [
              "bool"
            ]
          },
          "metadata": {},
          "execution_count": 19
        }
      ]
    },
    {
      "cell_type": "code",
      "source": [
        ""
      ],
      "metadata": {
        "id": "eqT68xcMMfNe"
      },
      "execution_count": null,
      "outputs": []
    }
  ]
}