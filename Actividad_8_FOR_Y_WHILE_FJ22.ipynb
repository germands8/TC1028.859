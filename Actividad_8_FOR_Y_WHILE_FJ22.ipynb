{
  "nbformat": 4,
  "nbformat_minor": 0,
  "metadata": {
    "colab": {
      "name": "Actividad 8 FOR Y WHILE - FJ22.ipynb",
      "provenance": [],
      "authorship_tag": "ABX9TyNuAjNT/ZCGde6BduDnRUHX"
    },
    "kernelspec": {
      "name": "python3",
      "display_name": "Python 3"
    },
    "language_info": {
      "name": "python"
    }
  },
  "cells": [
    {
      "cell_type": "markdown",
      "source": [
        "## **Problema 1**\n",
        "Muestra el promedio de todos los números capturados por el usuario. Primero, pregunta por la cantidad de números que el usuario desea capturar y luego pregunta por cada uno de los números y después despliega en pantalla el promedio de todos los números."
      ],
      "metadata": {
        "id": "oO47CwLpDuJG"
      }
    },
    {
      "cell_type": "code",
      "execution_count": null,
      "metadata": {
        "colab": {
          "base_uri": "https://localhost:8080/"
        },
        "id": "QGw6txGIDkXz",
        "outputId": "2bc34e0c-61a3-4eba-de53-7935b3bed53b"
      },
      "outputs": [
        {
          "output_type": "stream",
          "name": "stdout",
          "text": [
            "Ingresa la cantidad de números a capturar: 5\n",
            "Ingresa el número a capturar: 10\n",
            "Ingresa el número a capturar: 8\n",
            "Ingresa el número a capturar: 9\n",
            "Ingresa el número a capturar: 8\n",
            "Ingresa el número a capturar: 7\n",
            "El promedio de los números es: 8.4\n"
          ]
        }
      ],
      "source": [
        "cantidad_numeros = int(input(\"Ingresa la cantidad de números a capturar: \"))\n",
        "suma = 0\n",
        "\n",
        "for numero in range(cantidad_numeros):\n",
        "  dato = int(input(\"Ingresa el número a capturar: \"))\n",
        "\n",
        "  suma = suma + dato\n",
        "\n",
        "promedio = suma / cantidad_numeros\n",
        "print(\"El promedio de los números es:\", promedio)"
      ]
    },
    {
      "cell_type": "markdown",
      "source": [
        "## **Problema 2**\n",
        "Cuenta de inversión:\n",
        "\n",
        "En una cuenta de inversion, a principios del año 2020, el saldo era de 100,500 pesos. El banco da un rendimiento de 8% de interés anual, donde cada mes el porcentaje de interés calculado se acumula al saldo de la cuenta, es decir, cada mes el saldo de la cuenta al final del mes, es igual al saldo en ese momento, más el cálculo del interés mensual.\n",
        "\n",
        "\n",
        "En el mes de julio se va hacer un retiro por 90,500 pesos.\n",
        "\n",
        "Y el mes de octubre se va hacer un depósito por 50,000 pesos.\n",
        "\n",
        "Utiliza el estatuto for para calcular y desplegar cuánto va a ser el saldo de la cuenta al final del año."
      ],
      "metadata": {
        "id": "ozKhzB4LGmhj"
      }
    },
    {
      "cell_type": "code",
      "source": [
        "saldo = 100500\n",
        "tasa_interes = 0.08\n",
        "\n",
        "retiro_julio = 90500\n",
        "deposito_octubre = 50000\n",
        "\n",
        "for mes in range(1, 12 + 1):\n",
        " saldo = saldo + (saldo * tasa_interes / 12)\n",
        "\n",
        " if mes == 7:\n",
        "   saldo = saldo - retiro_julio\n",
        "\n",
        " if mes == 10:\n",
        "   saldo = saldo + deposito_octubre\n",
        "\n",
        " print(\"El saldo en el mes\", mes, \"es\",saldo)"
      ],
      "metadata": {
        "colab": {
          "base_uri": "https://localhost:8080/"
        },
        "id": "7rMp80sYGogY",
        "outputId": "ba9a03f0-5cfe-48b3-e94c-03a284bf3e2a"
      },
      "execution_count": null,
      "outputs": [
        {
          "output_type": "stream",
          "name": "stdout",
          "text": [
            "El saldo en el mes 1 es 101170.0\n",
            "El saldo en el mes 2 es 101844.46666666666\n",
            "El saldo en el mes 3 es 102523.42977777777\n",
            "El saldo en el mes 4 es 103206.91930962962\n",
            "El saldo en el mes 5 es 103894.96543836048\n",
            "El saldo en el mes 6 es 104587.59854128289\n",
            "El saldo en el mes 7 es 14784.84919822478\n",
            "El saldo en el mes 8 es 14883.414859546278\n",
            "El saldo en el mes 9 es 14982.637625276586\n",
            "El saldo en el mes 10 es 65082.521876111765\n",
            "El saldo en el mes 11 es 65516.405355285846\n",
            "El saldo en el mes 12 es 65953.18139098775\n"
          ]
        }
      ]
    },
    {
      "cell_type": "markdown",
      "source": [
        "## **Problema 3**\n",
        "Escribe un programa que desplique la palabra Python letra por letra formando el siguiente patrón:\n",
        "\n",
        "P\n",
        "\n",
        "Py\n",
        "\n",
        "Pyt\n",
        "\n",
        "Pyth\n",
        "\n",
        "Pytho\n",
        "\n",
        "Python"
      ],
      "metadata": {
        "id": "QKiymZDpN-XD"
      }
    },
    {
      "cell_type": "code",
      "source": [
        "palabra = \"Python\"\n",
        "cadena = \"\" #acumulador\n",
        "\n",
        "for letra in palabra:\n",
        "  cadena = cadena + letra\n",
        "  print(cadena)"
      ],
      "metadata": {
        "colab": {
          "base_uri": "https://localhost:8080/"
        },
        "id": "8eXD525JKD1I",
        "outputId": "50f0a402-16e1-4d96-e7c2-8c19e845507d"
      },
      "execution_count": null,
      "outputs": [
        {
          "output_type": "stream",
          "name": "stdout",
          "text": [
            "P\n",
            "Py\n",
            "Pyt\n",
            "Pyth\n",
            "Pytho\n",
            "Python\n"
          ]
        }
      ]
    },
    {
      "cell_type": "markdown",
      "source": [
        "## **Problema 4**\n",
        "Suma los números enteros (positivos y negativos) que el usuario teclee, deberás dejar de preguntar por números hasta que la suma de todos los números capturados sea igual a cero."
      ],
      "metadata": {
        "id": "7_s9YaUHQSmu"
      }
    },
    {
      "cell_type": "code",
      "source": [
        "suma = 0\n",
        "numero = int(input(\"Ingresa el número a sumar (positivo o negativo): \"))\n",
        "suma = suma + numero\n",
        "print(suma)\n",
        "\n",
        "while suma != 0: #condición para detener el ciclo\n",
        "  \n",
        "  numero = int(input(\"Ingresa el número a sumar (positivo o negativo): \"))\n",
        "\n",
        "  suma = suma + numero\n",
        "  print(suma)\n"
      ],
      "metadata": {
        "colab": {
          "base_uri": "https://localhost:8080/"
        },
        "id": "asLgs1AxPz7D",
        "outputId": "f716d934-236f-4af5-fcf7-377077fa0230"
      },
      "execution_count": null,
      "outputs": [
        {
          "output_type": "stream",
          "name": "stdout",
          "text": [
            "Ingresa el número a sumar (positivo o negativo): 5\n",
            "5\n",
            "Ingresa el número a sumar (positivo o negativo): 5\n",
            "10\n",
            "Ingresa el número a sumar (positivo o negativo): 5\n",
            "15\n",
            "Ingresa el número a sumar (positivo o negativo): -15\n",
            "0\n"
          ]
        }
      ]
    },
    {
      "cell_type": "markdown",
      "source": [
        "## **Problema 5**\n",
        "Recupera el código de tu programa de la calculadora de IMC (índice de masa corporal) y realiza las adecuaciones para que la calculadora le permita al usuario calcular repetidamente el IMC de los pacientes en un consultorio."
      ],
      "metadata": {
        "id": "spMLsBGoSJyq"
      }
    },
    {
      "cell_type": "code",
      "source": [
        "while True: # ciclo infinito\n",
        "\n",
        "  peso = float(input(\"Ingresa el peso en kilogramos: \"))\n",
        "  altura = float(input(\"Ingresa la altura en metros: \"))\n",
        "\n",
        "  imc = peso / altura ** 2\n",
        "\n",
        "  print(\"El imc es de\", round(imc, 2))\n",
        "  print(\"Este imc indica: \")\n",
        "\n",
        "  if imc < 20:\n",
        "    print(\"Peso bajo\")\n",
        "\n",
        "  elif imc >= 20 and imc < 25:\n",
        "    print(\"Peso normal\")\n",
        "\n",
        "  elif imc >= 25 and imc < 30:\n",
        "    print(\"Sobrepeso\")\n",
        "\n",
        "  elif imc >= 30 and imc < 40:\n",
        "    print(\"Obesidad\")\n",
        "\n",
        "  else:\n",
        "    print(\"Inscríbete a kilos mortales\")\n",
        "  \n",
        "  continuar = input(\"¿Deseas calcular el IMC de otro paciente? si/no: \")\n",
        "\n",
        "  if continuar == \"si\":\n",
        "    continue\n",
        "  else:\n",
        "    break\n"
      ],
      "metadata": {
        "id": "QXoBY2x8SLdr",
        "colab": {
          "base_uri": "https://localhost:8080/"
        },
        "outputId": "08db0bd1-d887-431f-a513-066c6b88c488"
      },
      "execution_count": null,
      "outputs": [
        {
          "name": "stdout",
          "output_type": "stream",
          "text": [
            "Ingresa el peso en kilogramos: 84\n",
            "Ingresa la altura en metros: 1.8\n",
            "El imc es de 25.93\n",
            "Este imc indica: \n",
            "Sobrepeso\n",
            "Desear calcular el IMC de otro paciente? si/no: si\n",
            "Ingresa el peso en kilogramos: 80\n",
            "Ingresa la altura en metros: 1.70\n",
            "El imc es de 27.68\n",
            "Este imc indica: \n",
            "Sobrepeso\n",
            "Desear calcular el IMC de otro paciente? si/no: no\n"
          ]
        }
      ]
    },
    {
      "cell_type": "markdown",
      "source": [
        "## **Problema 6**\n",
        "Escribe un programa que pregunte el nombre del usuario y contraseña, que valide si son correctas y si alguna no es correcta, que vuela a preguntar hasta que sean correctas y despliegue el mensaje: \"Bienvenido, usuario.\""
      ],
      "metadata": {
        "id": "TRLZ4SdyULHs"
      }
    },
    {
      "cell_type": "code",
      "source": [
        "usuario = \"Germán\"\n",
        "clave = \"Sensei\"\n",
        "\n",
        "while True:\n",
        "\n",
        "  nombre = input(\"Ingresa tu nombre: \")\n",
        "  contraseña = input(\"Ingresa tu contraseña: \")\n",
        "\n",
        "  if nombre == usuario and contraseña == clave:\n",
        "    print(\"Bienvenido,\", nombre)\n",
        "    break\n",
        "  else:\n",
        "    print(\"Usuario o contraseña incorrectos\")\n"
      ],
      "metadata": {
        "colab": {
          "base_uri": "https://localhost:8080/"
        },
        "id": "Pi50Ur0RUOuN",
        "outputId": "4d178bf7-55d0-4a34-8e9e-74df2a0a66e7"
      },
      "execution_count": null,
      "outputs": [
        {
          "output_type": "stream",
          "name": "stdout",
          "text": [
            "Ingresa tu nombre: sdfgh\n",
            "Ingresa tu contraseña: dfg\n",
            "Usuario o contraseña incorrectos\n",
            "Ingresa tu nombre: ergdfg\n",
            "Ingresa tu contraseña: edrdgdrg\n",
            "Usuario o contraseña incorrectos\n",
            "Ingresa tu nombre: Germán\n",
            "Ingresa tu contraseña: Sensei\n",
            "Bienvenido, Germán\n"
          ]
        }
      ]
    }
  ]
}