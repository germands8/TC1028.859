{
  "nbformat": 4,
  "nbformat_minor": 0,
  "metadata": {
    "colab": {
      "name": "Actividad 13 Matrices FJ22.ipynb",
      "provenance": [],
      "authorship_tag": "ABX9TyPuF3OafrwGqsdlsvD3nRnU"
    },
    "kernelspec": {
      "name": "python3",
      "display_name": "Python 3"
    },
    "language_info": {
      "name": "python"
    }
  },
  "cells": [
    {
      "cell_type": "markdown",
      "source": [
        "# Matrices"
      ],
      "metadata": {
        "id": "OrhbpD9tlsMQ"
      }
    },
    {
      "cell_type": "markdown",
      "source": [
        "## **Problema 1**\n",
        "Realiza un programa con dos matrices 'A' y 'B' de 3 X 3 con datos del 1 al 9 e imprime sus listas y valores renglón por renglón."
      ],
      "metadata": {
        "id": "5G-pYJp9lweI"
      }
    },
    {
      "cell_type": "code",
      "execution_count": 2,
      "metadata": {
        "colab": {
          "base_uri": "https://localhost:8080/"
        },
        "id": "EgcVOmXFlnQD",
        "outputId": "d17eea8a-6c66-465b-c42a-949008263be7"
      },
      "outputs": [
        {
          "output_type": "stream",
          "name": "stdout",
          "text": [
            "8\n"
          ]
        }
      ],
      "source": [
        "A = [1, 2, 3, 4 ,5, 6, 7, 8, 9] # lista de números\n",
        "\n",
        "print(A[7])"
      ]
    },
    {
      "cell_type": "code",
      "source": [
        "A = [\n",
        "     [1, 2, 3], \n",
        "     [4, 5, 6], \n",
        "     [7, 8, 9]\n",
        "     ] # matriz de números\n",
        "\n",
        "B = [\n",
        "     [1, 2, 3], \n",
        "     [4, 5, 6], \n",
        "     [7, 8, 9]\n",
        "     ] # matriz de números\n",
        "\n",
        "print(A[0])\n",
        "print(A[1])\n",
        "print(A[2])\n",
        "print(\"\")\n",
        "print(B[0])\n",
        "print(B[1])\n",
        "print(B[2])"
      ],
      "metadata": {
        "colab": {
          "base_uri": "https://localhost:8080/"
        },
        "id": "ZVWBvsAzmL4d",
        "outputId": "c68713fb-8a35-448d-9096-41ba1d3c80b2"
      },
      "execution_count": 9,
      "outputs": [
        {
          "output_type": "stream",
          "name": "stdout",
          "text": [
            "[1, 2, 3]\n",
            "[4, 5, 6]\n",
            "[7, 8, 9]\n",
            "\n",
            "[1, 2, 3]\n",
            "[4, 5, 6]\n",
            "[7, 8, 9]\n"
          ]
        }
      ]
    },
    {
      "cell_type": "code",
      "source": [
        "for lista in A:\n",
        "  print(lista)\n",
        "\n",
        "print(\"\")\n",
        "for lista in B:\n",
        "  print(lista)"
      ],
      "metadata": {
        "colab": {
          "base_uri": "https://localhost:8080/"
        },
        "id": "c0FFPeQqn-87",
        "outputId": "a6e66b25-266a-417b-cd58-87fa275134d3"
      },
      "execution_count": 11,
      "outputs": [
        {
          "output_type": "stream",
          "name": "stdout",
          "text": [
            "[1, 2, 3]\n",
            "[4, 5, 6]\n",
            "[7, 8, 9]\n",
            "\n",
            "[1, 2, 3]\n",
            "[4, 5, 6]\n",
            "[7, 8, 9]\n"
          ]
        }
      ]
    },
    {
      "cell_type": "code",
      "source": [
        "print(A[0][0])\n",
        "print(A[0][1])\n",
        "print(A[0][2])\n",
        "print(A[1][0])\n",
        "print(A[1][1])\n",
        "print(A[1][2])\n",
        "print(A[2][0])\n",
        "print(A[2][1])\n",
        "print(A[2][2])"
      ],
      "metadata": {
        "colab": {
          "base_uri": "https://localhost:8080/"
        },
        "id": "ezVmy_AxpSuK",
        "outputId": "2f5a2697-fc61-45c6-ebde-f73e1737c9da"
      },
      "execution_count": 15,
      "outputs": [
        {
          "output_type": "stream",
          "name": "stdout",
          "text": [
            "1\n",
            "2\n",
            "3\n",
            "4\n",
            "5\n",
            "6\n",
            "7\n",
            "8\n",
            "9\n"
          ]
        }
      ]
    },
    {
      "cell_type": "code",
      "source": [
        "A = [\n",
        "     [1, 2, 3], \n",
        "     [4, 5, 6], \n",
        "     [7, 8, 9]\n",
        "     ] # matriz de números\n",
        "\n",
        "for lista in range(3):\n",
        "  \n",
        "  for elemento in range(3):\n",
        "    print(\"El número de lista es\", lista)\n",
        "    print(\"El número de elemento es\", elemento)\n",
        "    print(A[lista][elemento])"
      ],
      "metadata": {
        "colab": {
          "base_uri": "https://localhost:8080/"
        },
        "id": "YpzcXNEmp710",
        "outputId": "e2613316-0e58-4acc-ea1a-819d2e6941b5"
      },
      "execution_count": 19,
      "outputs": [
        {
          "output_type": "stream",
          "name": "stdout",
          "text": [
            "El número de lista es 0\n",
            "El número de elemento es 0\n",
            "1\n",
            "El número de lista es 0\n",
            "El número de elemento es 1\n",
            "2\n",
            "El número de lista es 0\n",
            "El número de elemento es 2\n",
            "3\n",
            "El número de lista es 1\n",
            "El número de elemento es 0\n",
            "4\n",
            "El número de lista es 1\n",
            "El número de elemento es 1\n",
            "5\n",
            "El número de lista es 1\n",
            "El número de elemento es 2\n",
            "6\n",
            "El número de lista es 2\n",
            "El número de elemento es 0\n",
            "7\n",
            "El número de lista es 2\n",
            "El número de elemento es 1\n",
            "8\n",
            "El número de lista es 2\n",
            "El número de elemento es 2\n",
            "9\n"
          ]
        }
      ]
    },
    {
      "cell_type": "code",
      "source": [
        "for lista in range(3):\n",
        "  print(A[lista])"
      ],
      "metadata": {
        "colab": {
          "base_uri": "https://localhost:8080/"
        },
        "id": "AL84hskRoUGw",
        "outputId": "b5c86cae-ac01-4e87-8b75-2461cc3f8f96"
      },
      "execution_count": 12,
      "outputs": [
        {
          "output_type": "stream",
          "name": "stdout",
          "text": [
            "[1, 2, 3]\n",
            "[4, 5, 6]\n",
            "[7, 8, 9]\n"
          ]
        }
      ]
    },
    {
      "cell_type": "code",
      "source": [
        "for lista in A:\n",
        "  for elemento in lista:\n",
        "    print(elemento)"
      ],
      "metadata": {
        "colab": {
          "base_uri": "https://localhost:8080/"
        },
        "id": "DIevAOjhrh5f",
        "outputId": "b7f29df5-c7a8-48d2-c635-be2957f69c4c"
      },
      "execution_count": 20,
      "outputs": [
        {
          "output_type": "stream",
          "name": "stdout",
          "text": [
            "1\n",
            "2\n",
            "3\n",
            "4\n",
            "5\n",
            "6\n",
            "7\n",
            "8\n",
            "9\n"
          ]
        }
      ]
    },
    {
      "cell_type": "code",
      "source": [
        "print(A[0][2])"
      ],
      "metadata": {
        "colab": {
          "base_uri": "https://localhost:8080/"
        },
        "id": "J1lGuzAYm0S1",
        "outputId": "bcbe410b-a6a1-4163-cf57-e8d183349643"
      },
      "execution_count": 4,
      "outputs": [
        {
          "output_type": "stream",
          "name": "stdout",
          "text": [
            "3\n"
          ]
        }
      ]
    },
    {
      "cell_type": "code",
      "source": [
        "print(A[2][0])"
      ],
      "metadata": {
        "colab": {
          "base_uri": "https://localhost:8080/"
        },
        "id": "lAAAsTv-nSTY",
        "outputId": "2adffc20-bcdf-4e87-b541-06158e3f348d"
      },
      "execution_count": 5,
      "outputs": [
        {
          "output_type": "stream",
          "name": "stdout",
          "text": [
            "7\n"
          ]
        }
      ]
    },
    {
      "cell_type": "markdown",
      "source": [
        "## **Problema 2**\n",
        "Realiza un programa que cree a partir de una matriz vacía, una matriz de 5 X 5 dónde todos sus elementos tienen valor de cero."
      ],
      "metadata": {
        "id": "fCV0qrXVsbFY"
      }
    },
    {
      "cell_type": "code",
      "source": [
        "\"\"\"matriz = [\n",
        "          [0, 0, 0, 0, 0],\n",
        "          [0, 0, 0, 0, 0],\n",
        "          [0, 0, 0, 0, 0],\n",
        "          [0, 0, 0, 0, 0],\n",
        "          [0, 0, 0, 0, 0],\n",
        "]\"\"\"\n",
        "\n",
        "matriz = []\n",
        "\n",
        "for fila in range(5):\n",
        "  lista = [] # creamos una lista nueva\n",
        "  for columna in range(5):\n",
        "    lista.append(0) #llenamos la lista nueva con ceros\n",
        "  \n",
        "  matriz.append(lista) # agregamos la lista llena a la matriz\n",
        "\n",
        "print(matriz)\n",
        "for lista in matriz:\n",
        "  print(lista)"
      ],
      "metadata": {
        "colab": {
          "base_uri": "https://localhost:8080/"
        },
        "id": "gGk8R5_mscgH",
        "outputId": "122e8836-a489-4007-cc17-f803decf31e4"
      },
      "execution_count": 27,
      "outputs": [
        {
          "output_type": "stream",
          "name": "stdout",
          "text": [
            "[[0, 0, 0, 0, 0], [0, 0, 0, 0, 0], [0, 0, 0, 0, 0], [0, 0, 0, 0, 0], [0, 0, 0, 0, 0]]\n",
            "[0, 0, 0, 0, 0]\n",
            "[0, 0, 0, 0, 0]\n",
            "[0, 0, 0, 0, 0]\n",
            "[0, 0, 0, 0, 0]\n",
            "[0, 0, 0, 0, 0]\n"
          ]
        }
      ]
    },
    {
      "cell_type": "markdown",
      "source": [
        "## **Problema 3**\n",
        "\n",
        "Crea una lista que contenga listas con nombres de 3 estudiantes, con matrícula, carrera y semestre."
      ],
      "metadata": {
        "id": "bEUWT2bkve1l"
      }
    },
    {
      "cell_type": "code",
      "source": [
        "datos_estudiante = [\"el nombre\", \"la matrícula\", \"la carrera\", \"el semestre\"]\n",
        "\n",
        "estudiantes = []\n",
        "\n",
        "for fila in range(3): # cada fila representa un estudiante\n",
        "\n",
        "  estudiante = [] # estudiante nuevo (vacío)\n",
        "\n",
        "  for dato in range(4): # llenamos los datos de cada estudiante\n",
        "    estudiante.append(input(\"Ingresa \" + datos_estudiante[dato] + \" del estudiante \" + str(fila + 1) + \": \"))\n",
        "\n",
        "  estudiantes.append(estudiante) # agregamos el estudiante recién llenado a la lista de estudiantes\n",
        "\n",
        "for estudiante in estudiantes:\n",
        "  print(estudiante)"
      ],
      "metadata": {
        "colab": {
          "base_uri": "https://localhost:8080/"
        },
        "id": "PJy6Gd2TtxgL",
        "outputId": "ef805a14-a10b-4f88-c43d-4fe2f332c82b"
      },
      "execution_count": 36,
      "outputs": [
        {
          "output_type": "stream",
          "name": "stdout",
          "text": [
            "Ingresa el nombre del estudiante 1: Mikoko\n",
            "Ingresa la matrícula del estudiante 1: A01111532\n",
            "Ingresa la carrera del estudiante 1: ITC\n",
            "Ingresa  el semestre del estudiante 1: 2\n",
            "Ingresa el nombre del estudiante 2: Armando Escándalos\n",
            "Ingresa la matrícula del estudiante 2: A011111454\n",
            "Ingresa la carrera del estudiante 2: IDS\n",
            "Ingresa  el semestre del estudiante 2: 4\n",
            "Ingresa el nombre del estudiante 3: Henty Kejoso\n",
            "Ingresa la matrícula del estudiante 3: A01111565\n",
            "Ingresa la carrera del estudiante 3: IIS\n",
            "Ingresa  el semestre del estudiante 3: 5\n",
            "['Mikoko', 'A01111532', 'ITC', '2']\n",
            "['Armando Escándalos', 'A011111454', 'IDS', '4']\n",
            "['Henty Kejoso', 'A01111565', 'IIS', '5']\n"
          ]
        }
      ]
    }
  ]
}