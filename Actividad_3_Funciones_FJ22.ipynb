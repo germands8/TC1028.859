{
  "nbformat": 4,
  "nbformat_minor": 0,
  "metadata": {
    "colab": {
      "name": "Actividad 3 Funciones FJ22.ipynb",
      "provenance": [],
      "authorship_tag": "ABX9TyPfLLbrX66g19fuohAe06Qx"
    },
    "kernelspec": {
      "name": "python3",
      "display_name": "Python 3"
    },
    "language_info": {
      "name": "python"
    }
  },
  "cells": [
    {
      "cell_type": "markdown",
      "source": [
        "# Actividad en clase 3: Programas que requieren cálculos y funciones"
      ],
      "metadata": {
        "id": "Yoh8eY1Lgazg"
      }
    },
    {
      "cell_type": "markdown",
      "source": [
        "### **Problema 1 **\n",
        "\n",
        "Escribe un algoritmo para calcular el precio que va a pagar un alumno al comprar chilaquiles, incluyendo subtotal, iva y total."
      ],
      "metadata": {
        "id": "hHSrX8XWggac"
      }
    },
    {
      "cell_type": "markdown",
      "source": [
        "1.- Hacer fila en la cola de los chilaquiles\n",
        "\n",
        "2.- Ver el menú de los chilaquiles\n",
        "\n",
        "3.- Pedir los chilaquiles que quieras\n",
        "\n",
        "4.- Indicar tamaño y cantidad de chilaquiles\n",
        "\n",
        "5.- Pagar el total con TDC o efectivo\n",
        "\n",
        "  \n",
        "\n",
        "> 1.- Revisar precio\n",
        "\n",
        "> 2.- Calcular subtotal = Multiplicar precio por cantidad\n",
        "\n",
        "> 3.- Calcular iva = subtotal por 0.16\n",
        "\n",
        "> 4.- calcular total = subtotal más iva\n",
        "\n",
        "\n",
        "6.- Recoger chilaquiles"
      ],
      "metadata": {
        "id": "hi_CVnP1gmaY"
      }
    },
    {
      "cell_type": "markdown",
      "source": [
        "### **Problema 2**\n",
        "Realiza una función que solicite las coordenadas de dos puntos y que calcule la pendiente de la recta que une esos dos puntos.\n",
        "\n",
        "La fórmula para calcular la pendiente es:\n",
        "\n",
        "m = (y2 - y1) / (x2 - x1)"
      ],
      "metadata": {
        "id": "-YKMA77KjSn3"
      }
    },
    {
      "cell_type": "code",
      "execution_count": null,
      "metadata": {
        "colab": {
          "base_uri": "https://localhost:8080/"
        },
        "id": "hgw-WUNufw7g",
        "outputId": "fd42d4a5-432a-40a6-89f2-2a2aaa126663"
      },
      "outputs": [
        {
          "output_type": "stream",
          "name": "stdout",
          "text": [
            "Ingresa el valor de x1:\n",
            "10\n",
            "El valor capturado de x1 es: 10\n",
            "Ingresa el valor de y1:\n",
            "10\n",
            "El valor capturado de y1 es: 10\n",
            "Ingresa el valor de x2:\n",
            "20\n",
            "El valor capturado de x2 es: 20\n",
            "Ingresa el valor de y2:\n",
            "20\n",
            "El valor capturado de y2 es: 20\n",
            "La pendiente de los puntos ingresados es: 1.0\n"
          ]
        }
      ],
      "source": [
        "def calcular_pendiente(): # definiendo o creando una función\n",
        "  # instrucciones de la función\n",
        "\n",
        "  print(\"Ingresa el valor de x1:\") # imprimir texto\n",
        "  x1 = int(input()) # capturando un dato con la función input\n",
        "  print(\"El valor capturado de x1 es:\", x1) # imprimir texto y valor de x almacenado en memoria\n",
        "\n",
        "  print(\"Ingresa el valor de y1:\") # imprimir texto\n",
        "  y1 = int(input()) # capturando un dato con la función input\n",
        "  print(\"El valor capturado de y1 es:\", y1) # imprimir texto y valor de x almacenado en memoria\n",
        "\n",
        "  print(\"Ingresa el valor de x2:\") # imprimir texto\n",
        "  x2 = int(input()) # capturando un dato con la función input\n",
        "  print(\"El valor capturado de x2 es:\", x2) # imprimir texto y valor de x almacenado en memoria\n",
        "\n",
        "  print(\"Ingresa el valor de y2:\") # imprimir texto\n",
        "  y2 = int(input()) # capturando un dato con la función input\n",
        "  print(\"El valor capturado de y2 es:\", y2) # imprimir texto y valor de x almacenado en memoria\n",
        "\n",
        "  m = (y2 - y1) / (x2 - x1) # calculamos la pendiente\n",
        "  print(\"La pendiente de los puntos ingresados es:\", m) #imprimimos la pendiente\n",
        "\n",
        "calcular_pendiente() # mandamos llamar a la función, con su nombre para usarla"
      ]
    },
    {
      "cell_type": "markdown",
      "source": [
        "### **Problema 3**\n",
        "A inicio de año, las personas están preocupadas por su peso, por lo que acuden a nutriólogos, gimnasios y cualquier otra cosa que les ayude en el proceso. Realiza una función que ayude a las personas a indicar cuántos kilos debe bajar por mes dados el peso inicial, el peso final y el número de meses que una persona estará en un programa integral para bajar de peso.\n",
        "\n",
        "Solicitudes (entradas)\n",
        "\n",
        "Peso inicial (número decimal), peso final (número decimal), meses (número entero). Un dato en cada línea en ese orden."
      ],
      "metadata": {
        "id": "UNKhTP2R6Hd_"
      }
    },
    {
      "cell_type": "code",
      "source": [
        "def calcular_kilos():\n",
        "  peso_inicial = float(input(\"Ingresa tu peso inicial: \")) # pedimos el peso inicial y lo convertimos a decimal con float( )\n",
        "  peso_final = float(input(\"Ingresa tu peso final: \"))\n",
        "  meses = int(input(\"Ingresa el número de meses: \"))\n",
        "\n",
        "  kilos = (peso_inicial - peso_final) / meses\n",
        "  print(\"Si quieres llegar al peso deseado, necesitas bajar por mes\", round(kilos, 2), \"kilos\") #usamos round( ) para redondear el número\n",
        "\n",
        "#fuera de la función\n",
        "calcular_kilos()"
      ],
      "metadata": {
        "colab": {
          "base_uri": "https://localhost:8080/"
        },
        "id": "EyDjXKzf6KCn",
        "outputId": "66c4b149-b293-4a1e-f26f-24d7bb65c8c3"
      },
      "execution_count": null,
      "outputs": [
        {
          "output_type": "stream",
          "name": "stdout",
          "text": [
            "Ingresa tu peso inicial: 84\n",
            "Ingresa tu peso final: 79\n",
            "Ingresa el número de meses: 3\n",
            "Si quieres llegar al peso deseado, necesitas bajar por mes 1.67 kilos\n"
          ]
        }
      ]
    },
    {
      "cell_type": "markdown",
      "source": [
        "### **Problema 4**\n",
        "En una universidad cada estudiante cursa 4 materias en el semestre. Desarrolla una función que reciba la calificación de cada materia; calcula el promedio de las 4 materias y lo regresa."
      ],
      "metadata": {
        "id": "yqvGaLJt_pug"
      }
    },
    {
      "cell_type": "code",
      "source": [
        "nota1 = int(input(\"Ingresa la calificación 1: \"))\n",
        "nota2 = int(input(\"Ingresa la calificación 2: \"))\n",
        "nota3 = int(input(\"Ingresa la calificación 3: \"))\n",
        "nota4 = int(input(\"Ingresa la calificación 4: \"))\n",
        "\n",
        "def calcular_promedio(calificacion1, calificacion2, calificacion3, calificacion4): # esta función recibe 4 calificaciones\n",
        "\n",
        "  promedio = (calificacion1 + calificacion2 + calificacion3 + calificacion4) / 4 # calcula promedio\n",
        "\n",
        "  return promedio #regresa el promedio calculado\n",
        "\n",
        "print(\"El promedio calculado es\", calcular_promedio(nota1, nota2, nota3, nota4)) # mandamos llamar a la función con los 4 valores de la calificaciones\n"
      ],
      "metadata": {
        "colab": {
          "base_uri": "https://localhost:8080/"
        },
        "id": "OC5my8wM_pdD",
        "outputId": "cab6bb06-02ea-4221-bc1a-41051ed365a6"
      },
      "execution_count": null,
      "outputs": [
        {
          "output_type": "stream",
          "name": "stdout",
          "text": [
            "Ingresa la calificación 1: 100\n",
            "Ingresa la calificación 2: 80\n",
            "Ingresa la calificación 3: 90\n",
            "Ingresa la calificación 4: 100\n",
            "El promedio calculado es 92.5\n"
          ]
        }
      ]
    },
    {
      "cell_type": "markdown",
      "source": [
        "### **Problema 5**\n",
        "Desarrolla una función que calcule las siguientes medidas de un círculo/esfera/cilindro con radio = 3cm\n",
        "\n",
        "Diámetro\n",
        "Perímetro o circunferencia\n",
        "Área\n",
        "Volumen de la esfera con ese radio.\n",
        "Volumen de un cilindro con ese radio y altura de 10 cm.\n",
        "Calculamos con las siguientes fórmulas:\n",
        "\n",
        "diámetro = \n",
        "\n",
        "perímetro = \n",
        "\n",
        "área = \n",
        "\n",
        "volumen esfera = \n",
        "\n",
        "volumen cilindro = \n",
        "\n"
      ],
      "metadata": {
        "id": "E5acq2LJDQm1"
      }
    },
    {
      "cell_type": "code",
      "source": [
        "import math # importamos la librería de matemáticas"
      ],
      "metadata": {
        "id": "59xIzCRAEZs1"
      },
      "execution_count": null,
      "outputs": []
    },
    {
      "cell_type": "code",
      "source": [
        "print(math.pi)"
      ],
      "metadata": {
        "colab": {
          "base_uri": "https://localhost:8080/"
        },
        "id": "ZxIHUjUNE2yH",
        "outputId": "9e6aa6df-efce-4c4e-ade4-8aa66e36fc5a"
      },
      "execution_count": null,
      "outputs": [
        {
          "output_type": "stream",
          "name": "stdout",
          "text": [
            "3.141592653589793\n"
          ]
        }
      ]
    },
    {
      "cell_type": "code",
      "source": [
        "def calcular_medidas():\n",
        "  radio = 3\n",
        "  altura = 10\n",
        "  PI = math.pi\n",
        "\n",
        "  diametro = 2 * radio\n",
        "  perimetro = 2 * PI * radio\n",
        "  area = PI * radio ** 2 # para elevar a la potencia usamos ** no el ^\n",
        "  volumen_esfera = (4 / 3) * PI * radio ** 3\n",
        "  volumen_cilindro = PI * radio ** 2 * altura\n",
        "\n",
        "  print(\"El diametro del círculo es\", diametro)\n",
        "  print(\"El perimetro del círculo es\", perimetro)\n",
        "  print(\"El área del círculo es\", area)\n",
        "  print(volumen_esfera)\n",
        "  print(volumen_cilindro)\n",
        "\n",
        "calcular_medidas()\n",
        "\n",
        "\n",
        "\n",
        "\n",
        "\n",
        "\n",
        "\n",
        "\n",
        "\n",
        "\n",
        "\n",
        "\n"
      ],
      "metadata": {
        "colab": {
          "base_uri": "https://localhost:8080/"
        },
        "id": "QK3f48B9D_EV",
        "outputId": "2fae1e06-8e42-4aa0-8334-838b2b2d59e6"
      },
      "execution_count": null,
      "outputs": [
        {
          "output_type": "stream",
          "name": "stdout",
          "text": [
            "El diametro del círculo es 6\n",
            "El perimetro del círculo es 18.84955592153876\n",
            "El área del círculo es 28.274333882308138\n",
            "113.09733552923254\n",
            "282.7433388230814\n",
            "6\n"
          ]
        }
      ]
    }
  ]
}