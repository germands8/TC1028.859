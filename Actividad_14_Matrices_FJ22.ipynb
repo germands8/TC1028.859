{
  "nbformat": 4,
  "nbformat_minor": 0,
  "metadata": {
    "colab": {
      "name": "Actividad 14 Matrices FJ22.ipynb",
      "provenance": [],
      "authorship_tag": "ABX9TyM+f4yuRAGe4Yhsu7DWuohh"
    },
    "kernelspec": {
      "name": "python3",
      "display_name": "Python 3"
    },
    "language_info": {
      "name": "python"
    }
  },
  "cells": [
    {
      "cell_type": "markdown",
      "source": [
        "Crea una tabla de tus influencers favoritos usando matrices(listas de listas) en Python.\n",
        "# **Problema 1**\n",
        "Desarrolla una función para registrar influencers nuevos, por cada incluencer se deben registrar 4 datos: ID, nombre, plataforma y número de seguidores. "
      ],
      "metadata": {
        "id": "k0NIwrZM_F37"
      }
    },
    {
      "cell_type": "code",
      "source": [
        "influencers = []\n",
        "\n",
        "def registrar_influencer():\n",
        "\n",
        "  datos = [\"ID\", \"Nombre\", \"Plataforma\", \"Número de seguidores\"]\n",
        "\n",
        "  influencer = []\n",
        "\n",
        "  for num_dato in range(4):\n",
        "\n",
        "    dato = input(\"Ingresa \" + datos[num_dato] + \": \")\n",
        "\n",
        "    influencer.append(dato) # guarda los datos del influencer\n",
        "  \n",
        "  influencers.append(influencer) # guardar al influencer en la lista de indluencers"
      ],
      "metadata": {
        "id": "8hRSFtob_I2d"
      },
      "execution_count": 7,
      "outputs": []
    },
    {
      "cell_type": "code",
      "source": [
        "while True:\n",
        "\n",
        "  registrar_influencer()\n",
        "\n",
        "  continuar = input(\"Deseas agregar a otro influencer s/n \")\n",
        "\n",
        "  if continuar == \"s\":\n",
        "    continue\n",
        "  else:\n",
        "    break"
      ],
      "metadata": {
        "colab": {
          "base_uri": "https://localhost:8080/"
        },
        "id": "SGINNu1YGKTi",
        "outputId": "4ac8d417-7de0-4dbf-e472-46f0bbc6926e"
      },
      "execution_count": 8,
      "outputs": [
        {
          "name": "stdout",
          "output_type": "stream",
          "text": [
            "Ingresa ID: 1\n",
            "Ingresa Nombre: Yuya\n",
            "Ingresa Plataforma: Youtube\n",
            "Ingresa Número de seguidores: 25 millones\n",
            "Deseas agregar a otro influencer s/n s\n",
            "Ingresa ID: Luisito Comunica\n",
            "Ingresa Nombre: Youtube\n",
            "Ingresa Plataforma: Youtube\n",
            "Ingresa Número de seguidores: 38.5 millones\n",
            "Deseas agregar a otro influencer s/n s\n",
            "Ingresa ID: 3\n",
            "Ingresa Nombre: Willy Rex\n",
            "Ingresa Plataforma: Youtube \n",
            "Ingresa Número de seguidores: 17.1\n",
            "Deseas agregar a otro influencer s/n n\n"
          ]
        }
      ]
    },
    {
      "cell_type": "code",
      "source": [
        "for incluencer in influencers:\n",
        "  print(incluencer)"
      ],
      "metadata": {
        "colab": {
          "base_uri": "https://localhost:8080/"
        },
        "id": "HVS8AbJhHGHP",
        "outputId": "bdfcd768-86ea-49c4-88e6-09ee42e99f36"
      },
      "execution_count": 28,
      "outputs": [
        {
          "output_type": "stream",
          "name": "stdout",
          "text": [
            "['1', 'Yuya', 'Youtube', '25 millones']\n",
            "['2', 'Luisito Comunica', 'Facebook', '20 millones']\n"
          ]
        }
      ]
    },
    {
      "cell_type": "markdown",
      "source": [
        "# **Problema 2**\n",
        "Desarrolla una función que permita cambiar los datos de un incluencer, para cambiar los datos primero debe preguntar por el ID del influencer."
      ],
      "metadata": {
        "id": "UwcJfxuWHQFX"
      }
    },
    {
      "cell_type": "code",
      "source": [
        "def cambiar_influencer():\n",
        "\n",
        "  id = int(input(\"Ingresa el ID del influencer que quieres cambiar: \"))\n",
        "\n",
        "  if id > 0 and id <= len(influencers):\n",
        "\n",
        "    print(\"El ID ingresado si existe\")\n",
        "\n",
        "    datos = [\"ID nuevo\", \"Nombre nuevo\", \"Plataforma nueva\", \"Número de seguidores nuevo\"]\n",
        "\n",
        "    influencer = []\n",
        "\n",
        "    for num_dato in range(4):\n",
        "\n",
        "      dato = input(\"Ingresa \" + datos[num_dato] + \": \")\n",
        "\n",
        "      influencer.append(dato) # guarda los datos del influencer\n",
        "    \n",
        "    influencers[id - 1] = influencer\n",
        "  \n",
        "  else:\n",
        "    print(\"No existe el ID ingresado, por favor inténtalo de nuevo\")\n",
        "    cambiar_influencer()"
      ],
      "metadata": {
        "id": "60PYbQhSHLER"
      },
      "execution_count": 25,
      "outputs": []
    },
    {
      "cell_type": "code",
      "source": [
        "cambiar_influencer()"
      ],
      "metadata": {
        "id": "sw14YqULIneK"
      },
      "execution_count": null,
      "outputs": []
    },
    {
      "cell_type": "markdown",
      "source": [
        "## **Problema 3**\n",
        "Desarrolla una función que permita borrar un influencer preguntando el ID."
      ],
      "metadata": {
        "id": "6dg1AtzfNP5k"
      }
    },
    {
      "cell_type": "code",
      "source": [
        "def borrar_influencer():\n",
        "  \n",
        "  id = int(input(\"Ingresa el ID del influencer que quieres cambiar: \"))\n",
        "\n",
        "  if id > 0 and id <= len(influencers):\n",
        "\n",
        "    print(\"El ID ingresado si existe\")\n",
        "\n",
        "    influencers.pop(id - 1)\n",
        "\n",
        "    print(\"Influencer borrado\")\n",
        "\n",
        "  else:\n",
        "    print(\"No existe el ID ingresado, por favor inténtalo de nuevo\")\n",
        "    borrar_influencer()\n",
        "\n",
        "borrar_influencer()"
      ],
      "metadata": {
        "colab": {
          "base_uri": "https://localhost:8080/"
        },
        "id": "NLNotSMsNRlb",
        "outputId": "99777bdf-dcc9-486d-eabc-2114f7b217f2"
      },
      "execution_count": 27,
      "outputs": [
        {
          "output_type": "stream",
          "name": "stdout",
          "text": [
            "Ingresa el ID del influencer que quieres cambiar: 5\n",
            "No existe el ID ingresado, por favor inténtalo de nuevo\n",
            "Ingresa el ID del influencer que quieres cambiar: 3\n",
            "El ID ingresado si existe\n"
          ]
        }
      ]
    }
  ]
}